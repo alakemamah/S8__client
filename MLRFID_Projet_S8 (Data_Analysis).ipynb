{
 "cells": [
  {
   "cell_type": "code",
   "execution_count": 102,
   "metadata": {
    "colab": {},
    "colab_type": "code",
    "id": "YELosqgI0JXJ"
   },
   "outputs": [],
   "source": [
    "import pandas as pd\n",
    "import numpy as np\n",
    "import matplotlib.pyplot as plt\n",
    "import seaborn as sns\n",
    "from sklearn.preprocessing import LabelEncoder\n",
    "from sklearn.model_selection import StratifiedShuffleSplit\n",
    "from sklearn.linear_model import LogisticRegression\n",
    "from sklearn.neighbors import KNeighborsClassifier\n",
    "from sklearn.tree import DecisionTreeClassifier\n",
    "from sklearn.metrics import accuracy_score\n",
    "import os\n",
    "import datetime"
   ]
  },
  {
   "cell_type": "markdown",
   "metadata": {
    "colab_type": "text",
    "id": "7zST4TVM1TuO"
   },
   "source": []
  },
  {
   "cell_type": "code",
   "execution_count": 103,
   "metadata": {
    "colab": {
     "base_uri": "https://localhost:8080/",
     "height": 649
    },
    "colab_type": "code",
    "executionInfo": {
     "elapsed": 5552,
     "status": "ok",
     "timestamp": 1588018737945,
     "user": {
      "displayName": "Christophe Loussert",
      "photoUrl": "",
      "userId": "16796903251132996478"
     },
     "user_tz": -120
    },
    "id": "-m9AI7NR0JXR",
    "outputId": "455c9fb5-0d7d-4716-8439-015200d5cd05"
   },
   "outputs": [
    {
     "name": "stdout",
     "output_type": "stream",
     "text": [
      "ano_APTags-TagsAutomatedProcess-2019-11-07-16_29_46.csv\n",
      "ano_APTags-TagsAutomatedProcess-2019-11-07-16_57_34.csv\n",
      "ano_APTags-TagsAutomatedProcess-2019-11-07-17_16_18.csv\n",
      "ano_APTags-TagsAutomatedProcess-2019-11-07-17_32_19.csv\n",
      "ano_APTags-TagsAutomatedProcess-2019-11-07-17_58_50.csv\n",
      "ano_APTags-TagsAutomatedProcess-2019-11-07-18_13_30.csv\n",
      "ano_APTags-TagsAutomatedProcess-2019-11-07-18_21_44.csv\n",
      "ano_APTags-TagsAutomatedProcess-2019-11-07-18_30_01.csv\n",
      "ano_APTags-TagsAutomatedProcess-2019-11-07-18_38_19.csv\n",
      "ano_APTags-TagsAutomatedProcess-2019-11-07-18_49_44.csv\n",
      "ano_APTags-TagsAutomatedProcess-2019-11-07-19_00_26.csv\n",
      "ano_APTags-TagsAutomatedProcess-2019-11-07-19_10_51.csv\n",
      "ano_APTags-TagsAutomatedProcess-2019-11-07-19_20_14.csv\n",
      "ano_APTags-TagsAutomatedProcess-2019-11-07-19_29_54.csv\n",
      "ano_APTags-TagsAutomatedProcess-2019-11-08-10_55_25.csv\n",
      "ano_supply-process.2019-11-07-CUT.csv\n",
      "reflist_0.olpn\n",
      "reflist_1.olpn\n",
      "reflist_2.olpn\n",
      "reflist_3.olpn\n",
      "reflist_4.olpn\n",
      "reflist_5.olpn\n",
      "reflist_6.olpn\n",
      "reflist_7.olpn\n",
      "reflist_8.olpn\n",
      "reflist_9.olpn\n"
     ]
    },
    {
     "data": {
      "text/html": [
       "<div>\n",
       "<style scoped>\n",
       "    .dataframe tbody tr th:only-of-type {\n",
       "        vertical-align: middle;\n",
       "    }\n",
       "\n",
       "    .dataframe tbody tr th {\n",
       "        vertical-align: top;\n",
       "    }\n",
       "\n",
       "    .dataframe thead th {\n",
       "        text-align: right;\n",
       "    }\n",
       "</style>\n",
       "<table border=\"1\" class=\"dataframe\">\n",
       "  <thead>\n",
       "    <tr style=\"text-align: right;\">\n",
       "      <th></th>\n",
       "      <th>Epc</th>\n",
       "      <th>refListId_actual</th>\n",
       "      <th>Q refListId_actual</th>\n",
       "    </tr>\n",
       "  </thead>\n",
       "  <tbody>\n",
       "    <tr>\n",
       "      <th>0</th>\n",
       "      <td>epc_90</td>\n",
       "      <td>0</td>\n",
       "      <td>16</td>\n",
       "    </tr>\n",
       "    <tr>\n",
       "      <th>1</th>\n",
       "      <td>epc_91</td>\n",
       "      <td>0</td>\n",
       "      <td>16</td>\n",
       "    </tr>\n",
       "    <tr>\n",
       "      <th>2</th>\n",
       "      <td>epc_92</td>\n",
       "      <td>0</td>\n",
       "      <td>16</td>\n",
       "    </tr>\n",
       "    <tr>\n",
       "      <th>3</th>\n",
       "      <td>epc_93</td>\n",
       "      <td>0</td>\n",
       "      <td>16</td>\n",
       "    </tr>\n",
       "    <tr>\n",
       "      <th>4</th>\n",
       "      <td>epc_94</td>\n",
       "      <td>0</td>\n",
       "      <td>16</td>\n",
       "    </tr>\n",
       "  </tbody>\n",
       "</table>\n",
       "</div>"
      ],
      "text/plain": [
       "      Epc  refListId_actual  Q refListId_actual\n",
       "0  epc_90                 0                  16\n",
       "1  epc_91                 0                  16\n",
       "2  epc_92                 0                  16\n",
       "3  epc_93                 0                  16\n",
       "4  epc_94                 0                  16"
      ]
     },
     "execution_count": 103,
     "metadata": {},
     "output_type": "execute_result"
    }
   ],
   "source": [
    "\n",
    "pathfile=r'data_anonymous'\n",
    "\n",
    "# reflist: list of epc in each box\n",
    "reflist=pd.DataFrame()\n",
    "# \n",
    "files=os.listdir(pathfile)\n",
    "for file in files:\n",
    "    print(file)\n",
    "    if file.startswith('reflist_'):\n",
    "        temp=pd.read_csv(os.path.join(pathfile,file),sep=',').reset_index(drop=True)[['Epc']]\n",
    "        temp['refListId']=file.split('.')[0]\n",
    "        reflist=reflist.append(temp)\n",
    "reflist=reflist.rename(columns={'refListId':'refListId_actual'})\n",
    "reflist['refListId_actual']=reflist['refListId_actual'].apply(lambda x:int(x[8:]))\n",
    "Q_refListId_actual=reflist.groupby('refListId_actual')['Epc'].nunique().rename('Q refListId_actual').reset_index(drop=False)\n",
    "reflist=pd.merge(reflist,Q_refListId_actual,on='refListId_actual',how='left')\n",
    "reflist.head()"
   ]
  },
  {
   "cell_type": "markdown",
   "metadata": {
    "colab_type": "raw",
    "id": "SmNoqEdW0JXW"
   },
   "source": []
  },
  {
   "cell_type": "code",
   "execution_count": 104,
   "metadata": {
    "colab": {
     "base_uri": "https://localhost:8080/",
     "height": 649
    },
    "colab_type": "code",
    "executionInfo": {
     "elapsed": 14346,
     "status": "ok",
     "timestamp": 1588018763694,
     "user": {
      "displayName": "Christophe Loussert",
      "photoUrl": "",
      "userId": "16796903251132996478"
     },
     "user_tz": -120
    },
    "id": "uDalaKhY0JXX",
    "outputId": "d0d5ba0d-fa11-4d44-d444-5298abc9377e"
   },
   "outputs": [
    {
     "name": "stdout",
     "output_type": "stream",
     "text": [
      "ano_APTags-TagsAutomatedProcess-2019-11-07-16_29_46.csv\n",
      "ano_APTags-TagsAutomatedProcess-2019-11-07-16_57_34.csv\n",
      "ano_APTags-TagsAutomatedProcess-2019-11-07-17_16_18.csv\n",
      "ano_APTags-TagsAutomatedProcess-2019-11-07-17_32_19.csv\n",
      "ano_APTags-TagsAutomatedProcess-2019-11-07-17_58_50.csv\n",
      "ano_APTags-TagsAutomatedProcess-2019-11-07-18_13_30.csv\n",
      "ano_APTags-TagsAutomatedProcess-2019-11-07-18_21_44.csv\n",
      "ano_APTags-TagsAutomatedProcess-2019-11-07-18_30_01.csv\n",
      "ano_APTags-TagsAutomatedProcess-2019-11-07-18_38_19.csv\n",
      "ano_APTags-TagsAutomatedProcess-2019-11-07-18_49_44.csv\n",
      "ano_APTags-TagsAutomatedProcess-2019-11-07-19_00_26.csv\n",
      "ano_APTags-TagsAutomatedProcess-2019-11-07-19_10_51.csv\n",
      "ano_APTags-TagsAutomatedProcess-2019-11-07-19_20_14.csv\n",
      "ano_APTags-TagsAutomatedProcess-2019-11-07-19_29_54.csv\n",
      "ano_APTags-TagsAutomatedProcess-2019-11-08-10_55_25.csv\n",
      "ano_supply-process.2019-11-07-CUT.csv\n",
      "reflist_0.olpn\n",
      "reflist_1.olpn\n",
      "reflist_2.olpn\n",
      "reflist_3.olpn\n",
      "reflist_4.olpn\n",
      "reflist_5.olpn\n",
      "reflist_6.olpn\n",
      "reflist_7.olpn\n",
      "reflist_8.olpn\n",
      "reflist_9.olpn\n"
     ]
    },
    {
     "data": {
      "text/html": [
       "<div>\n",
       "<style scoped>\n",
       "    .dataframe tbody tr th:only-of-type {\n",
       "        vertical-align: middle;\n",
       "    }\n",
       "\n",
       "    .dataframe tbody tr th {\n",
       "        vertical-align: top;\n",
       "    }\n",
       "\n",
       "    .dataframe thead th {\n",
       "        text-align: right;\n",
       "    }\n",
       "</style>\n",
       "<table border=\"1\" class=\"dataframe\">\n",
       "  <thead>\n",
       "    <tr style=\"text-align: right;\">\n",
       "      <th></th>\n",
       "      <th>LogTime</th>\n",
       "      <th>Epc</th>\n",
       "      <th>Rssi</th>\n",
       "      <th>Ant</th>\n",
       "      <th>loc</th>\n",
       "    </tr>\n",
       "  </thead>\n",
       "  <tbody>\n",
       "    <tr>\n",
       "      <th>0</th>\n",
       "      <td>2019-11-07 15:32:10</td>\n",
       "      <td>epc_100</td>\n",
       "      <td>-69.0</td>\n",
       "      <td>3</td>\n",
       "      <td>out</td>\n",
       "    </tr>\n",
       "    <tr>\n",
       "      <th>1</th>\n",
       "      <td>2019-11-07 15:32:10</td>\n",
       "      <td>epc_97</td>\n",
       "      <td>-69.0</td>\n",
       "      <td>3</td>\n",
       "      <td>out</td>\n",
       "    </tr>\n",
       "    <tr>\n",
       "      <th>2</th>\n",
       "      <td>2019-11-07 15:32:10</td>\n",
       "      <td>epc_97</td>\n",
       "      <td>-65.0</td>\n",
       "      <td>3</td>\n",
       "      <td>out</td>\n",
       "    </tr>\n",
       "    <tr>\n",
       "      <th>3</th>\n",
       "      <td>2019-11-07 15:32:10</td>\n",
       "      <td>epc_99</td>\n",
       "      <td>-70.0</td>\n",
       "      <td>3</td>\n",
       "      <td>out</td>\n",
       "    </tr>\n",
       "    <tr>\n",
       "      <th>4</th>\n",
       "      <td>2019-11-07 15:32:10</td>\n",
       "      <td>epc_100</td>\n",
       "      <td>-66.0</td>\n",
       "      <td>3</td>\n",
       "      <td>out</td>\n",
       "    </tr>\n",
       "  </tbody>\n",
       "</table>\n",
       "</div>"
      ],
      "text/plain": [
       "              LogTime      Epc  Rssi  Ant  loc\n",
       "0 2019-11-07 15:32:10  epc_100 -69.0    3  out\n",
       "1 2019-11-07 15:32:10   epc_97 -69.0    3  out\n",
       "2 2019-11-07 15:32:10   epc_97 -65.0    3  out\n",
       "3 2019-11-07 15:32:10   epc_99 -70.0    3  out\n",
       "4 2019-11-07 15:32:10  epc_100 -66.0    3  out"
      ]
     },
     "execution_count": 104,
     "metadata": {},
     "output_type": "execute_result"
    }
   ],
   "source": [
    "# pathfile=r'data_anonymous'\n",
    "# \n",
    "# df : rfid readings\n",
    "df=pd.DataFrame()\n",
    "# \n",
    "files=os.listdir(pathfile)\n",
    "for file in files:\n",
    "    print(file)\n",
    "    if file.startswith('ano_APTags'):\n",
    "        temp=pd.read_csv(os.path.join(pathfile,file),sep=',')\n",
    "        df=df.append(temp)\n",
    "df['LogTime']=pd.to_datetime (df['LogTime'] ,format='%Y-%m-%d-%H:%M:%S') \n",
    "df['TimeStamp']=df['TimeStamp'].astype(float)\n",
    "df['Rssi']=df['Rssi'].astype(float)\n",
    "df=df.drop(['Reader','EmitPower','Frequency'],axis=1).reset_index(drop=True)\n",
    "df=df[['LogTime', 'Epc', 'Rssi', 'Ant']]\n",
    "# antennas 1 and 2 are facing the box when photocell in/out \n",
    "Ant_loc=pd.DataFrame({'Ant':[1,2,3,4],'loc':['in','in','out','out']})\n",
    "df=pd.merge(df,Ant_loc,on=['Ant'])\n",
    "df=df.sort_values('LogTime').reset_index(drop=True)\n",
    "df.head()"
   ]
  },
  {
   "cell_type": "code",
   "execution_count": 105,
   "metadata": {
    "colab": {
     "base_uri": "https://localhost:8080/",
     "height": 34
    },
    "colab_type": "code",
    "executionInfo": {
     "elapsed": 618,
     "status": "ok",
     "timestamp": 1588018768030,
     "user": {
      "displayName": "Christophe Loussert",
      "photoUrl": "",
      "userId": "16796903251132996478"
     },
     "user_tz": -120
    },
    "id": "KSYWAcS60JXd",
    "outputId": "52427d96-0e6a-4e3e-f7d4-393e1ee86a71"
   },
   "outputs": [
    {
     "data": {
      "text/plain": [
       "1204003"
      ]
     },
     "execution_count": 105,
     "metadata": {},
     "output_type": "execute_result"
    }
   ],
   "source": [
    "len(df)"
   ]
  },
  {
   "cell_type": "code",
   "execution_count": null,
   "metadata": {
    "colab": {},
    "colab_type": "code",
    "id": "tuXLimgK0JXk"
   },
   "outputs": [],
   "source": []
  },
  {
   "cell_type": "code",
   "execution_count": 106,
   "metadata": {
    "colab": {
     "base_uri": "https://localhost:8080/",
     "height": 77
    },
    "colab_type": "code",
    "executionInfo": {
     "elapsed": 837,
     "status": "ok",
     "timestamp": 1588018773742,
     "user": {
      "displayName": "Christophe Loussert",
      "photoUrl": "",
      "userId": "16796903251132996478"
     },
     "user_tz": -120
    },
    "id": "8ciZZ5BQ0JXp",
    "outputId": "1be94192-5dbe-47d4-d628-655e57465e10"
   },
   "outputs": [
    {
     "data": {
      "text/html": [
       "<div>\n",
       "<style scoped>\n",
       "    .dataframe tbody tr th:only-of-type {\n",
       "        vertical-align: middle;\n",
       "    }\n",
       "\n",
       "    .dataframe tbody tr th {\n",
       "        vertical-align: top;\n",
       "    }\n",
       "\n",
       "    .dataframe thead th {\n",
       "        text-align: right;\n",
       "    }\n",
       "</style>\n",
       "<table border=\"1\" class=\"dataframe\">\n",
       "  <thead>\n",
       "    <tr style=\"text-align: right;\">\n",
       "      <th></th>\n",
       "      <th>refListId</th>\n",
       "      <th>ciuchStart</th>\n",
       "      <th>ciuchStop</th>\n",
       "    </tr>\n",
       "  </thead>\n",
       "  <tbody>\n",
       "    <tr>\n",
       "      <th>0</th>\n",
       "      <td>0</td>\n",
       "      <td>2019-11-07 18:53:52.370</td>\n",
       "      <td>2019-11-07 18:53:54.197</td>\n",
       "    </tr>\n",
       "  </tbody>\n",
       "</table>\n",
       "</div>"
      ],
      "text/plain": [
       "   refListId              ciuchStart               ciuchStop\n",
       "0          0 2019-11-07 18:53:52.370 2019-11-07 18:53:54.197"
      ]
     },
     "execution_count": 106,
     "metadata": {},
     "output_type": "execute_result"
    }
   ],
   "source": [
    "# timing: photocells a time window for each box: start/stop (ciuchStart, ciuchStop)\n",
    "file=r'ano_supply-process.2019-11-07-CUT.csv'\n",
    "timing=pd.read_csv(os.path.join(pathfile,file),sep=',')\n",
    "timing['file']=file\n",
    "timing['date']=pd.to_datetime(timing['date'],format='%d/%m/%Y %H:%M:%S,%f')\n",
    "timing['ciuchStart']=pd.to_datetime(timing['ciuchStart'],format='%d/%m/%Y %H:%M:%S,%f')\n",
    "timing['ciuchStop']=pd.to_datetime(timing['ciuchStop'],format='%d/%m/%Y %H:%M:%S,%f')\n",
    "timing['timestampStart']=timing['timestampStart'].astype(float)\n",
    "timing['timestampStop']=timing['timestampStop'].astype(float)\n",
    "timing=timing.sort_values('date')\n",
    "timing.loc[:,'refListId']=timing.loc[:,'refListId'].apply(lambda x:int(x[8:]))\n",
    "timing=timing[['refListId', 'ciuchStart', 'ciuchStop']]\n",
    "timing[:1]"
   ]
  },
  {
   "cell_type": "code",
   "execution_count": 107,
   "metadata": {
    "colab": {
     "base_uri": "https://localhost:8080/",
     "height": 34
    },
    "colab_type": "code",
    "executionInfo": {
     "elapsed": 949,
     "status": "ok",
     "timestamp": 1588018781598,
     "user": {
      "displayName": "Christophe Loussert",
      "photoUrl": "",
      "userId": "16796903251132996478"
     },
     "user_tz": -120
    },
    "id": "v_bnj4-u0JX6",
    "outputId": "2003a15e-4cbb-4acb-abfe-d34067e36965"
   },
   "outputs": [
    {
     "data": {
      "text/plain": [
       "389"
      ]
     },
     "execution_count": 107,
     "metadata": {},
     "output_type": "execute_result"
    }
   ],
   "source": [
    "len(timing)"
   ]
  },
  {
   "cell_type": "code",
   "execution_count": 108,
   "metadata": {
    "colab": {
     "base_uri": "https://localhost:8080/",
     "height": 402
    },
    "colab_type": "code",
    "executionInfo": {
     "elapsed": 591,
     "status": "ok",
     "timestamp": 1588018783417,
     "user": {
      "displayName": "Christophe Loussert",
      "photoUrl": "",
      "userId": "16796903251132996478"
     },
     "user_tz": -120
    },
    "id": "jFXeiAUk0JX-",
    "outputId": "7c653a87-c0ce-438f-e0b5-46bb97d94697"
   },
   "outputs": [
    {
     "data": {
      "text/html": [
       "<div>\n",
       "<style scoped>\n",
       "    .dataframe tbody tr th:only-of-type {\n",
       "        vertical-align: middle;\n",
       "    }\n",
       "\n",
       "    .dataframe tbody tr th {\n",
       "        vertical-align: top;\n",
       "    }\n",
       "\n",
       "    .dataframe thead th {\n",
       "        text-align: right;\n",
       "    }\n",
       "</style>\n",
       "<table border=\"1\" class=\"dataframe\">\n",
       "  <thead>\n",
       "    <tr style=\"text-align: right;\">\n",
       "      <th></th>\n",
       "      <th>refListId</th>\n",
       "      <th>ciuchStart</th>\n",
       "      <th>ciuchStop</th>\n",
       "    </tr>\n",
       "  </thead>\n",
       "  <tbody>\n",
       "    <tr>\n",
       "      <th>0</th>\n",
       "      <td>0</td>\n",
       "      <td>2019-11-07 18:53:52.370</td>\n",
       "      <td>2019-11-07 18:53:54.197</td>\n",
       "    </tr>\n",
       "    <tr>\n",
       "      <th>1</th>\n",
       "      <td>1</td>\n",
       "      <td>2019-11-07 18:54:02.637</td>\n",
       "      <td>2019-11-07 18:54:04.463</td>\n",
       "    </tr>\n",
       "    <tr>\n",
       "      <th>2</th>\n",
       "      <td>2</td>\n",
       "      <td>2019-11-07 18:54:13.587</td>\n",
       "      <td>2019-11-07 18:54:15.447</td>\n",
       "    </tr>\n",
       "    <tr>\n",
       "      <th>3</th>\n",
       "      <td>3</td>\n",
       "      <td>2019-11-07 18:54:17.942</td>\n",
       "      <td>2019-11-07 18:54:19.591</td>\n",
       "    </tr>\n",
       "    <tr>\n",
       "      <th>4</th>\n",
       "      <td>4</td>\n",
       "      <td>2019-11-07 18:54:23.683</td>\n",
       "      <td>2019-11-07 18:54:25.528</td>\n",
       "    </tr>\n",
       "    <tr>\n",
       "      <th>...</th>\n",
       "      <td>...</td>\n",
       "      <td>...</td>\n",
       "      <td>...</td>\n",
       "    </tr>\n",
       "    <tr>\n",
       "      <th>7</th>\n",
       "      <td>7</td>\n",
       "      <td>2019-11-07 18:54:40.829</td>\n",
       "      <td>2019-11-07 18:54:42.611</td>\n",
       "    </tr>\n",
       "    <tr>\n",
       "      <th>8</th>\n",
       "      <td>8</td>\n",
       "      <td>2019-11-07 18:54:46.383</td>\n",
       "      <td>2019-11-07 18:54:48.158</td>\n",
       "    </tr>\n",
       "    <tr>\n",
       "      <th>9</th>\n",
       "      <td>9</td>\n",
       "      <td>2019-11-07 18:54:52.122</td>\n",
       "      <td>2019-11-07 18:54:54.051</td>\n",
       "    </tr>\n",
       "    <tr>\n",
       "      <th>10</th>\n",
       "      <td>0</td>\n",
       "      <td>2019-11-07 18:54:57.738</td>\n",
       "      <td>2019-11-07 18:54:59.584</td>\n",
       "    </tr>\n",
       "    <tr>\n",
       "      <th>11</th>\n",
       "      <td>1</td>\n",
       "      <td>2019-11-07 18:55:03.946</td>\n",
       "      <td>2019-11-07 18:55:05.694</td>\n",
       "    </tr>\n",
       "  </tbody>\n",
       "</table>\n",
       "<p>12 rows × 3 columns</p>\n",
       "</div>"
      ],
      "text/plain": [
       "    refListId              ciuchStart               ciuchStop\n",
       "0           0 2019-11-07 18:53:52.370 2019-11-07 18:53:54.197\n",
       "1           1 2019-11-07 18:54:02.637 2019-11-07 18:54:04.463\n",
       "2           2 2019-11-07 18:54:13.587 2019-11-07 18:54:15.447\n",
       "3           3 2019-11-07 18:54:17.942 2019-11-07 18:54:19.591\n",
       "4           4 2019-11-07 18:54:23.683 2019-11-07 18:54:25.528\n",
       "..        ...                     ...                     ...\n",
       "7           7 2019-11-07 18:54:40.829 2019-11-07 18:54:42.611\n",
       "8           8 2019-11-07 18:54:46.383 2019-11-07 18:54:48.158\n",
       "9           9 2019-11-07 18:54:52.122 2019-11-07 18:54:54.051\n",
       "10          0 2019-11-07 18:54:57.738 2019-11-07 18:54:59.584\n",
       "11          1 2019-11-07 18:55:03.946 2019-11-07 18:55:05.694\n",
       "\n",
       "[12 rows x 3 columns]"
      ]
     },
     "execution_count": 108,
     "metadata": {},
     "output_type": "execute_result"
    }
   ],
   "source": [
    "timing[:12]"
   ]
  },
  {
   "cell_type": "code",
   "execution_count": 109,
   "metadata": {
    "colab": {
     "base_uri": "https://localhost:8080/",
     "height": 195
    },
    "colab_type": "code",
    "executionInfo": {
     "elapsed": 949,
     "status": "ok",
     "timestamp": 1588018786598,
     "user": {
      "displayName": "Christophe Loussert",
      "photoUrl": "",
      "userId": "16796903251132996478"
     },
     "user_tz": -120
    },
    "id": "AtREKFSo0JXw",
    "outputId": "24cb199d-259b-413a-cb7e-9ff6f6028ad6"
   },
   "outputs": [
    {
     "data": {
      "text/html": [
       "<div>\n",
       "<style scoped>\n",
       "    .dataframe tbody tr th:only-of-type {\n",
       "        vertical-align: middle;\n",
       "    }\n",
       "\n",
       "    .dataframe tbody tr th {\n",
       "        vertical-align: top;\n",
       "    }\n",
       "\n",
       "    .dataframe thead th {\n",
       "        text-align: right;\n",
       "    }\n",
       "</style>\n",
       "<table border=\"1\" class=\"dataframe\">\n",
       "  <thead>\n",
       "    <tr style=\"text-align: right;\">\n",
       "      <th></th>\n",
       "      <th>refListId</th>\n",
       "      <th>refListId_last</th>\n",
       "      <th>ciuchStartup</th>\n",
       "      <th>ciuchStart</th>\n",
       "      <th>ciuchStop</th>\n",
       "      <th>ciuchStopdown</th>\n",
       "    </tr>\n",
       "  </thead>\n",
       "  <tbody>\n",
       "    <tr>\n",
       "      <th>0</th>\n",
       "      <td>0</td>\n",
       "      <td>0</td>\n",
       "      <td>2019-11-07 18:53:42.370000</td>\n",
       "      <td>2019-11-07 18:53:52.370</td>\n",
       "      <td>2019-11-07 18:53:54.197</td>\n",
       "      <td>2019-11-07 18:53:58.417000</td>\n",
       "    </tr>\n",
       "    <tr>\n",
       "      <th>1</th>\n",
       "      <td>1</td>\n",
       "      <td>0</td>\n",
       "      <td>2019-11-07 18:53:58.417000</td>\n",
       "      <td>2019-11-07 18:54:02.637</td>\n",
       "      <td>2019-11-07 18:54:04.463</td>\n",
       "      <td>2019-11-07 18:54:09.025000</td>\n",
       "    </tr>\n",
       "    <tr>\n",
       "      <th>2</th>\n",
       "      <td>2</td>\n",
       "      <td>1</td>\n",
       "      <td>2019-11-07 18:54:09.025000</td>\n",
       "      <td>2019-11-07 18:54:13.587</td>\n",
       "      <td>2019-11-07 18:54:15.447</td>\n",
       "      <td>2019-11-07 18:54:16.694500</td>\n",
       "    </tr>\n",
       "    <tr>\n",
       "      <th>3</th>\n",
       "      <td>3</td>\n",
       "      <td>2</td>\n",
       "      <td>2019-11-07 18:54:16.694500</td>\n",
       "      <td>2019-11-07 18:54:17.942</td>\n",
       "      <td>2019-11-07 18:54:19.591</td>\n",
       "      <td>2019-11-07 18:54:21.637000</td>\n",
       "    </tr>\n",
       "    <tr>\n",
       "      <th>4</th>\n",
       "      <td>4</td>\n",
       "      <td>3</td>\n",
       "      <td>2019-11-07 18:54:21.637000</td>\n",
       "      <td>2019-11-07 18:54:23.683</td>\n",
       "      <td>2019-11-07 18:54:25.528</td>\n",
       "      <td>2019-11-07 18:54:27.475000</td>\n",
       "    </tr>\n",
       "  </tbody>\n",
       "</table>\n",
       "</div>"
      ],
      "text/plain": [
       "   refListId  refListId_last               ciuchStartup  \\\n",
       "0          0               0 2019-11-07 18:53:42.370000   \n",
       "1          1               0 2019-11-07 18:53:58.417000   \n",
       "2          2               1 2019-11-07 18:54:09.025000   \n",
       "3          3               2 2019-11-07 18:54:16.694500   \n",
       "4          4               3 2019-11-07 18:54:21.637000   \n",
       "\n",
       "               ciuchStart               ciuchStop              ciuchStopdown  \n",
       "0 2019-11-07 18:53:52.370 2019-11-07 18:53:54.197 2019-11-07 18:53:58.417000  \n",
       "1 2019-11-07 18:54:02.637 2019-11-07 18:54:04.463 2019-11-07 18:54:09.025000  \n",
       "2 2019-11-07 18:54:13.587 2019-11-07 18:54:15.447 2019-11-07 18:54:16.694500  \n",
       "3 2019-11-07 18:54:17.942 2019-11-07 18:54:19.591 2019-11-07 18:54:21.637000  \n",
       "4 2019-11-07 18:54:23.683 2019-11-07 18:54:25.528 2019-11-07 18:54:27.475000  "
      ]
     },
     "execution_count": 109,
     "metadata": {},
     "output_type": "execute_result"
    }
   ],
   "source": [
    "# ciuchStart_up starts upstream ciuchStart, half way in between the previous stop and the actual start\n",
    "timing[['ciuchStop_last']]=timing[['ciuchStop']].shift(1)\n",
    "timing[['refListId_last']]=timing[['refListId']].shift(1)\n",
    "timing['ciuchStartup']=timing['ciuchStart'] - (timing['ciuchStart'] - timing['ciuchStop_last'])/2\n",
    "# timing start: 10sec before timing\n",
    "timing.loc[0,'refListId_last']=timing.loc[0,'refListId']\n",
    "timing.loc[0,'ciuchStartup']=timing.loc[0,'ciuchStart']-datetime.timedelta(seconds=10)\n",
    "timing.loc[0,'ciuchStop_last']=timing.loc[0,'ciuchStartup']-datetime.timedelta(seconds=10)\n",
    "timing['refListId_last']=timing['refListId_last'].astype(int)\n",
    "# \n",
    "timing['ciuchStopdown']= timing['ciuchStartup'].shift(-1)\n",
    "timing.loc[len(timing)-1,'ciuchStopdown']=timing.loc[len(timing)-1,'ciuchStop']+datetime.timedelta(seconds=10)\n",
    "timing=timing[['refListId', 'refListId_last','ciuchStartup', 'ciuchStart','ciuchStop','ciuchStopdown']]\n",
    "timing.head()"
   ]
  },
  {
   "cell_type": "code",
   "execution_count": 110,
   "metadata": {
    "colab": {
     "base_uri": "https://localhost:8080/",
     "height": 195
    },
    "colab_type": "code",
    "executionInfo": {
     "elapsed": 1002,
     "status": "ok",
     "timestamp": 1588018792544,
     "user": {
      "displayName": "Christophe Loussert",
      "photoUrl": "",
      "userId": "16796903251132996478"
     },
     "user_tz": -120
    },
    "id": "2X_jsFDG0JYD",
    "outputId": "d926a32f-3b96-4045-b559-870feefe64ad",
    "scrolled": true
   },
   "outputs": [
    {
     "data": {
      "text/html": [
       "<div>\n",
       "<style scoped>\n",
       "    .dataframe tbody tr th:only-of-type {\n",
       "        vertical-align: middle;\n",
       "    }\n",
       "\n",
       "    .dataframe tbody tr th {\n",
       "        vertical-align: top;\n",
       "    }\n",
       "\n",
       "    .dataframe thead th {\n",
       "        text-align: right;\n",
       "    }\n",
       "</style>\n",
       "<table border=\"1\" class=\"dataframe\">\n",
       "  <thead>\n",
       "    <tr style=\"text-align: right;\">\n",
       "      <th></th>\n",
       "      <th>refListId</th>\n",
       "      <th>refListId_last</th>\n",
       "      <th>ciuchStartup</th>\n",
       "      <th>ciuchStart</th>\n",
       "      <th>ciuchStop</th>\n",
       "      <th>ciuchStopdown</th>\n",
       "    </tr>\n",
       "  </thead>\n",
       "  <tbody>\n",
       "    <tr>\n",
       "      <th>0</th>\n",
       "      <td>0</td>\n",
       "      <td>0</td>\n",
       "      <td>2019-11-07 18:53:42.370000</td>\n",
       "      <td>2019-11-07 18:53:52.370</td>\n",
       "      <td>2019-11-07 18:53:54.197</td>\n",
       "      <td>2019-11-07 18:53:58.417000</td>\n",
       "    </tr>\n",
       "    <tr>\n",
       "      <th>10</th>\n",
       "      <td>0</td>\n",
       "      <td>9</td>\n",
       "      <td>2019-11-07 18:54:55.894500</td>\n",
       "      <td>2019-11-07 18:54:57.738</td>\n",
       "      <td>2019-11-07 18:54:59.584</td>\n",
       "      <td>2019-11-07 18:55:01.765000</td>\n",
       "    </tr>\n",
       "    <tr>\n",
       "      <th>20</th>\n",
       "      <td>0</td>\n",
       "      <td>9</td>\n",
       "      <td>2019-11-07 18:55:53.460500</td>\n",
       "      <td>2019-11-07 18:55:55.497</td>\n",
       "      <td>2019-11-07 18:55:57.377</td>\n",
       "      <td>2019-11-07 18:55:59.567500</td>\n",
       "    </tr>\n",
       "    <tr>\n",
       "      <th>30</th>\n",
       "      <td>0</td>\n",
       "      <td>9</td>\n",
       "      <td>2019-11-07 18:56:51.317000</td>\n",
       "      <td>2019-11-07 18:56:53.344</td>\n",
       "      <td>2019-11-07 18:56:55.215</td>\n",
       "      <td>2019-11-07 18:56:57.241500</td>\n",
       "    </tr>\n",
       "    <tr>\n",
       "      <th>40</th>\n",
       "      <td>0</td>\n",
       "      <td>9</td>\n",
       "      <td>2019-11-07 18:58:02.390500</td>\n",
       "      <td>2019-11-07 18:58:04.351</td>\n",
       "      <td>2019-11-07 18:58:06.212</td>\n",
       "      <td>2019-11-07 18:58:11.428000</td>\n",
       "    </tr>\n",
       "  </tbody>\n",
       "</table>\n",
       "</div>"
      ],
      "text/plain": [
       "    refListId  refListId_last               ciuchStartup  \\\n",
       "0           0               0 2019-11-07 18:53:42.370000   \n",
       "10          0               9 2019-11-07 18:54:55.894500   \n",
       "20          0               9 2019-11-07 18:55:53.460500   \n",
       "30          0               9 2019-11-07 18:56:51.317000   \n",
       "40          0               9 2019-11-07 18:58:02.390500   \n",
       "\n",
       "                ciuchStart               ciuchStop              ciuchStopdown  \n",
       "0  2019-11-07 18:53:52.370 2019-11-07 18:53:54.197 2019-11-07 18:53:58.417000  \n",
       "10 2019-11-07 18:54:57.738 2019-11-07 18:54:59.584 2019-11-07 18:55:01.765000  \n",
       "20 2019-11-07 18:55:55.497 2019-11-07 18:55:57.377 2019-11-07 18:55:59.567500  \n",
       "30 2019-11-07 18:56:53.344 2019-11-07 18:56:55.215 2019-11-07 18:56:57.241500  \n",
       "40 2019-11-07 18:58:04.351 2019-11-07 18:58:06.212 2019-11-07 18:58:11.428000  "
      ]
     },
     "execution_count": 110,
     "metadata": {},
     "output_type": "execute_result"
    }
   ],
   "source": [
    "# box 0 always starts\n",
    "timing[timing['refListId']==0].head()"
   ]
  },
  {
   "cell_type": "code",
   "execution_count": 111,
   "metadata": {
    "colab": {
     "base_uri": "https://localhost:8080/",
     "height": 195
    },
    "colab_type": "code",
    "executionInfo": {
     "elapsed": 557,
     "status": "ok",
     "timestamp": 1588018806550,
     "user": {
      "displayName": "Christophe Loussert",
      "photoUrl": "",
      "userId": "16796903251132996478"
     },
     "user_tz": -120
    },
    "id": "krWhva-Z0JYH",
    "outputId": "55c1d5bd-24e0-466e-a962-74cc11fecc0f"
   },
   "outputs": [
    {
     "data": {
      "text/html": [
       "<div>\n",
       "<style scoped>\n",
       "    .dataframe tbody tr th:only-of-type {\n",
       "        vertical-align: middle;\n",
       "    }\n",
       "\n",
       "    .dataframe tbody tr th {\n",
       "        vertical-align: top;\n",
       "    }\n",
       "\n",
       "    .dataframe thead th {\n",
       "        text-align: right;\n",
       "    }\n",
       "</style>\n",
       "<table border=\"1\" class=\"dataframe\">\n",
       "  <thead>\n",
       "    <tr style=\"text-align: right;\">\n",
       "      <th></th>\n",
       "      <th>run</th>\n",
       "      <th>refListId</th>\n",
       "      <th>refListId_last</th>\n",
       "      <th>ciuchStartup</th>\n",
       "      <th>ciuchStart</th>\n",
       "      <th>ciuchStop</th>\n",
       "      <th>ciuchStopdown</th>\n",
       "      <th>t0_run</th>\n",
       "    </tr>\n",
       "  </thead>\n",
       "  <tbody>\n",
       "    <tr>\n",
       "      <th>0</th>\n",
       "      <td>1</td>\n",
       "      <td>0</td>\n",
       "      <td>0</td>\n",
       "      <td>2019-11-07 18:53:42.370000</td>\n",
       "      <td>2019-11-07 18:53:52.370</td>\n",
       "      <td>2019-11-07 18:53:54.197</td>\n",
       "      <td>2019-11-07 18:53:58.417000</td>\n",
       "      <td>2019-11-07 18:53:42.370</td>\n",
       "    </tr>\n",
       "    <tr>\n",
       "      <th>1</th>\n",
       "      <td>1</td>\n",
       "      <td>1</td>\n",
       "      <td>0</td>\n",
       "      <td>2019-11-07 18:53:58.417000</td>\n",
       "      <td>2019-11-07 18:54:02.637</td>\n",
       "      <td>2019-11-07 18:54:04.463</td>\n",
       "      <td>2019-11-07 18:54:09.025000</td>\n",
       "      <td>2019-11-07 18:53:42.370</td>\n",
       "    </tr>\n",
       "    <tr>\n",
       "      <th>2</th>\n",
       "      <td>1</td>\n",
       "      <td>2</td>\n",
       "      <td>1</td>\n",
       "      <td>2019-11-07 18:54:09.025000</td>\n",
       "      <td>2019-11-07 18:54:13.587</td>\n",
       "      <td>2019-11-07 18:54:15.447</td>\n",
       "      <td>2019-11-07 18:54:16.694500</td>\n",
       "      <td>2019-11-07 18:53:42.370</td>\n",
       "    </tr>\n",
       "    <tr>\n",
       "      <th>3</th>\n",
       "      <td>1</td>\n",
       "      <td>3</td>\n",
       "      <td>2</td>\n",
       "      <td>2019-11-07 18:54:16.694500</td>\n",
       "      <td>2019-11-07 18:54:17.942</td>\n",
       "      <td>2019-11-07 18:54:19.591</td>\n",
       "      <td>2019-11-07 18:54:21.637000</td>\n",
       "      <td>2019-11-07 18:53:42.370</td>\n",
       "    </tr>\n",
       "    <tr>\n",
       "      <th>4</th>\n",
       "      <td>1</td>\n",
       "      <td>4</td>\n",
       "      <td>3</td>\n",
       "      <td>2019-11-07 18:54:21.637000</td>\n",
       "      <td>2019-11-07 18:54:23.683</td>\n",
       "      <td>2019-11-07 18:54:25.528</td>\n",
       "      <td>2019-11-07 18:54:27.475000</td>\n",
       "      <td>2019-11-07 18:53:42.370</td>\n",
       "    </tr>\n",
       "  </tbody>\n",
       "</table>\n",
       "</div>"
      ],
      "text/plain": [
       "   run  refListId  refListId_last               ciuchStartup  \\\n",
       "0    1          0               0 2019-11-07 18:53:42.370000   \n",
       "1    1          1               0 2019-11-07 18:53:58.417000   \n",
       "2    1          2               1 2019-11-07 18:54:09.025000   \n",
       "3    1          3               2 2019-11-07 18:54:16.694500   \n",
       "4    1          4               3 2019-11-07 18:54:21.637000   \n",
       "\n",
       "               ciuchStart               ciuchStop              ciuchStopdown  \\\n",
       "0 2019-11-07 18:53:52.370 2019-11-07 18:53:54.197 2019-11-07 18:53:58.417000   \n",
       "1 2019-11-07 18:54:02.637 2019-11-07 18:54:04.463 2019-11-07 18:54:09.025000   \n",
       "2 2019-11-07 18:54:13.587 2019-11-07 18:54:15.447 2019-11-07 18:54:16.694500   \n",
       "3 2019-11-07 18:54:17.942 2019-11-07 18:54:19.591 2019-11-07 18:54:21.637000   \n",
       "4 2019-11-07 18:54:23.683 2019-11-07 18:54:25.528 2019-11-07 18:54:27.475000   \n",
       "\n",
       "                   t0_run  \n",
       "0 2019-11-07 18:53:42.370  \n",
       "1 2019-11-07 18:53:42.370  \n",
       "2 2019-11-07 18:53:42.370  \n",
       "3 2019-11-07 18:53:42.370  \n",
       "4 2019-11-07 18:53:42.370  "
      ]
     },
     "execution_count": 111,
     "metadata": {},
     "output_type": "execute_result"
    }
   ],
   "source": [
    "# t0_run = a new run starts when box 0 shows up\n",
    "t0_run=timing[timing['refListId']==0] [['ciuchStartup']]\n",
    "t0_run=t0_run.rename(columns={'ciuchStartup':'t0_run'})\n",
    "t0_run=t0_run.groupby('t0_run').size().cumsum().rename('run').reset_index(drop=False)\n",
    "t0_run=t0_run.sort_values('t0_run')\n",
    "# \n",
    "# each row in timing is merged with a last row in t0_run where t0_run (ciuchstart) <= timing (ciuchstart)\n",
    "timing=pd.merge_asof(timing,t0_run,left_on='ciuchStartup',right_on='t0_run', direction='backward')\n",
    "timing=timing.sort_values('ciuchStop')\n",
    "timing=timing[['run', 'refListId', 'refListId_last', 'ciuchStartup','ciuchStart','ciuchStop','ciuchStopdown','t0_run']]\n",
    "timing.head()"
   ]
  },
  {
   "cell_type": "code",
   "execution_count": 112,
   "metadata": {
    "colab": {
     "base_uri": "https://localhost:8080/",
     "height": 402
    },
    "colab_type": "code",
    "executionInfo": {
     "elapsed": 988,
     "status": "ok",
     "timestamp": 1588018815024,
     "user": {
      "displayName": "Christophe Loussert",
      "photoUrl": "",
      "userId": "16796903251132996478"
     },
     "user_tz": -120
    },
    "id": "JPC-PH0t0JYP",
    "outputId": "21ebc900-e0ad-4de8-864b-92d2c89400c1"
   },
   "outputs": [
    {
     "data": {
      "text/html": [
       "<div>\n",
       "<style scoped>\n",
       "    .dataframe tbody tr th:only-of-type {\n",
       "        vertical-align: middle;\n",
       "    }\n",
       "\n",
       "    .dataframe tbody tr th {\n",
       "        vertical-align: top;\n",
       "    }\n",
       "\n",
       "    .dataframe thead th {\n",
       "        text-align: right;\n",
       "    }\n",
       "</style>\n",
       "<table border=\"1\" class=\"dataframe\">\n",
       "  <thead>\n",
       "    <tr style=\"text-align: right;\">\n",
       "      <th></th>\n",
       "      <th>run</th>\n",
       "      <th>refListId</th>\n",
       "      <th>refListId_last</th>\n",
       "      <th>ciuchStartup</th>\n",
       "      <th>ciuchStart</th>\n",
       "      <th>ciuchStop</th>\n",
       "      <th>ciuchStopdown</th>\n",
       "      <th>t0_run</th>\n",
       "    </tr>\n",
       "  </thead>\n",
       "  <tbody>\n",
       "    <tr>\n",
       "      <th>0</th>\n",
       "      <td>1</td>\n",
       "      <td>0</td>\n",
       "      <td>0</td>\n",
       "      <td>2019-11-07 18:53:42.370000</td>\n",
       "      <td>2019-11-07 18:53:52.370</td>\n",
       "      <td>2019-11-07 18:53:54.197</td>\n",
       "      <td>2019-11-07 18:53:58.417000</td>\n",
       "      <td>2019-11-07 18:53:42.370000</td>\n",
       "    </tr>\n",
       "    <tr>\n",
       "      <th>1</th>\n",
       "      <td>1</td>\n",
       "      <td>1</td>\n",
       "      <td>0</td>\n",
       "      <td>2019-11-07 18:53:58.417000</td>\n",
       "      <td>2019-11-07 18:54:02.637</td>\n",
       "      <td>2019-11-07 18:54:04.463</td>\n",
       "      <td>2019-11-07 18:54:09.025000</td>\n",
       "      <td>2019-11-07 18:53:42.370000</td>\n",
       "    </tr>\n",
       "    <tr>\n",
       "      <th>2</th>\n",
       "      <td>1</td>\n",
       "      <td>2</td>\n",
       "      <td>1</td>\n",
       "      <td>2019-11-07 18:54:09.025000</td>\n",
       "      <td>2019-11-07 18:54:13.587</td>\n",
       "      <td>2019-11-07 18:54:15.447</td>\n",
       "      <td>2019-11-07 18:54:16.694500</td>\n",
       "      <td>2019-11-07 18:53:42.370000</td>\n",
       "    </tr>\n",
       "    <tr>\n",
       "      <th>3</th>\n",
       "      <td>1</td>\n",
       "      <td>3</td>\n",
       "      <td>2</td>\n",
       "      <td>2019-11-07 18:54:16.694500</td>\n",
       "      <td>2019-11-07 18:54:17.942</td>\n",
       "      <td>2019-11-07 18:54:19.591</td>\n",
       "      <td>2019-11-07 18:54:21.637000</td>\n",
       "      <td>2019-11-07 18:53:42.370000</td>\n",
       "    </tr>\n",
       "    <tr>\n",
       "      <th>4</th>\n",
       "      <td>1</td>\n",
       "      <td>4</td>\n",
       "      <td>3</td>\n",
       "      <td>2019-11-07 18:54:21.637000</td>\n",
       "      <td>2019-11-07 18:54:23.683</td>\n",
       "      <td>2019-11-07 18:54:25.528</td>\n",
       "      <td>2019-11-07 18:54:27.475000</td>\n",
       "      <td>2019-11-07 18:53:42.370000</td>\n",
       "    </tr>\n",
       "    <tr>\n",
       "      <th>...</th>\n",
       "      <td>...</td>\n",
       "      <td>...</td>\n",
       "      <td>...</td>\n",
       "      <td>...</td>\n",
       "      <td>...</td>\n",
       "      <td>...</td>\n",
       "      <td>...</td>\n",
       "      <td>...</td>\n",
       "    </tr>\n",
       "    <tr>\n",
       "      <th>7</th>\n",
       "      <td>1</td>\n",
       "      <td>7</td>\n",
       "      <td>6</td>\n",
       "      <td>2019-11-07 18:54:38.757000</td>\n",
       "      <td>2019-11-07 18:54:40.829</td>\n",
       "      <td>2019-11-07 18:54:42.611</td>\n",
       "      <td>2019-11-07 18:54:44.497000</td>\n",
       "      <td>2019-11-07 18:53:42.370000</td>\n",
       "    </tr>\n",
       "    <tr>\n",
       "      <th>8</th>\n",
       "      <td>1</td>\n",
       "      <td>8</td>\n",
       "      <td>7</td>\n",
       "      <td>2019-11-07 18:54:44.497000</td>\n",
       "      <td>2019-11-07 18:54:46.383</td>\n",
       "      <td>2019-11-07 18:54:48.158</td>\n",
       "      <td>2019-11-07 18:54:50.140000</td>\n",
       "      <td>2019-11-07 18:53:42.370000</td>\n",
       "    </tr>\n",
       "    <tr>\n",
       "      <th>9</th>\n",
       "      <td>1</td>\n",
       "      <td>9</td>\n",
       "      <td>8</td>\n",
       "      <td>2019-11-07 18:54:50.140000</td>\n",
       "      <td>2019-11-07 18:54:52.122</td>\n",
       "      <td>2019-11-07 18:54:54.051</td>\n",
       "      <td>2019-11-07 18:54:55.894500</td>\n",
       "      <td>2019-11-07 18:53:42.370000</td>\n",
       "    </tr>\n",
       "    <tr>\n",
       "      <th>10</th>\n",
       "      <td>2</td>\n",
       "      <td>0</td>\n",
       "      <td>9</td>\n",
       "      <td>2019-11-07 18:54:55.894500</td>\n",
       "      <td>2019-11-07 18:54:57.738</td>\n",
       "      <td>2019-11-07 18:54:59.584</td>\n",
       "      <td>2019-11-07 18:55:01.765000</td>\n",
       "      <td>2019-11-07 18:54:55.894500</td>\n",
       "    </tr>\n",
       "    <tr>\n",
       "      <th>11</th>\n",
       "      <td>2</td>\n",
       "      <td>1</td>\n",
       "      <td>0</td>\n",
       "      <td>2019-11-07 18:55:01.765000</td>\n",
       "      <td>2019-11-07 18:55:03.946</td>\n",
       "      <td>2019-11-07 18:55:05.694</td>\n",
       "      <td>2019-11-07 18:55:07.694000</td>\n",
       "      <td>2019-11-07 18:54:55.894500</td>\n",
       "    </tr>\n",
       "  </tbody>\n",
       "</table>\n",
       "<p>12 rows × 8 columns</p>\n",
       "</div>"
      ],
      "text/plain": [
       "    run  refListId  refListId_last               ciuchStartup  \\\n",
       "0     1          0               0 2019-11-07 18:53:42.370000   \n",
       "1     1          1               0 2019-11-07 18:53:58.417000   \n",
       "2     1          2               1 2019-11-07 18:54:09.025000   \n",
       "3     1          3               2 2019-11-07 18:54:16.694500   \n",
       "4     1          4               3 2019-11-07 18:54:21.637000   \n",
       "..  ...        ...             ...                        ...   \n",
       "7     1          7               6 2019-11-07 18:54:38.757000   \n",
       "8     1          8               7 2019-11-07 18:54:44.497000   \n",
       "9     1          9               8 2019-11-07 18:54:50.140000   \n",
       "10    2          0               9 2019-11-07 18:54:55.894500   \n",
       "11    2          1               0 2019-11-07 18:55:01.765000   \n",
       "\n",
       "                ciuchStart               ciuchStop              ciuchStopdown  \\\n",
       "0  2019-11-07 18:53:52.370 2019-11-07 18:53:54.197 2019-11-07 18:53:58.417000   \n",
       "1  2019-11-07 18:54:02.637 2019-11-07 18:54:04.463 2019-11-07 18:54:09.025000   \n",
       "2  2019-11-07 18:54:13.587 2019-11-07 18:54:15.447 2019-11-07 18:54:16.694500   \n",
       "3  2019-11-07 18:54:17.942 2019-11-07 18:54:19.591 2019-11-07 18:54:21.637000   \n",
       "4  2019-11-07 18:54:23.683 2019-11-07 18:54:25.528 2019-11-07 18:54:27.475000   \n",
       "..                     ...                     ...                        ...   \n",
       "7  2019-11-07 18:54:40.829 2019-11-07 18:54:42.611 2019-11-07 18:54:44.497000   \n",
       "8  2019-11-07 18:54:46.383 2019-11-07 18:54:48.158 2019-11-07 18:54:50.140000   \n",
       "9  2019-11-07 18:54:52.122 2019-11-07 18:54:54.051 2019-11-07 18:54:55.894500   \n",
       "10 2019-11-07 18:54:57.738 2019-11-07 18:54:59.584 2019-11-07 18:55:01.765000   \n",
       "11 2019-11-07 18:55:03.946 2019-11-07 18:55:05.694 2019-11-07 18:55:07.694000   \n",
       "\n",
       "                       t0_run  \n",
       "0  2019-11-07 18:53:42.370000  \n",
       "1  2019-11-07 18:53:42.370000  \n",
       "2  2019-11-07 18:53:42.370000  \n",
       "3  2019-11-07 18:53:42.370000  \n",
       "4  2019-11-07 18:53:42.370000  \n",
       "..                        ...  \n",
       "7  2019-11-07 18:53:42.370000  \n",
       "8  2019-11-07 18:53:42.370000  \n",
       "9  2019-11-07 18:53:42.370000  \n",
       "10 2019-11-07 18:54:55.894500  \n",
       "11 2019-11-07 18:54:55.894500  \n",
       "\n",
       "[12 rows x 8 columns]"
      ]
     },
     "execution_count": 112,
     "metadata": {},
     "output_type": "execute_result"
    }
   ],
   "source": [
    "timing[:12]"
   ]
  },
  {
   "cell_type": "code",
   "execution_count": 113,
   "metadata": {
    "colab": {
     "base_uri": "https://localhost:8080/",
     "height": 392
    },
    "colab_type": "code",
    "executionInfo": {
     "elapsed": 1105,
     "status": "ok",
     "timestamp": 1588018821960,
     "user": {
      "displayName": "Christophe Loussert",
      "photoUrl": "",
      "userId": "16796903251132996478"
     },
     "user_tz": -120
    },
    "id": "SmkGA-WM0JYV",
    "outputId": "249a4014-492e-428f-cfc2-1a88aa91780f"
   },
   "outputs": [
    {
     "data": {
      "image/png": "[encoded data removed]",
      "text/plain": [
       "<Figure size 864x432 with 1 Axes>"
      ]
     },
     "metadata": {
      "needs_background": "light"
     },
     "output_type": "display_data"
    }
   ],
   "source": [
    "plt.figure(figsize=(12,6))\n",
    "up=(timing['ciuchStart']-timing['ciuchStartup']).apply(lambda x:x.total_seconds())\n",
    "mid=(timing['ciuchStop']-timing['ciuchStart']).apply(lambda x:x.total_seconds())\n",
    "down=(timing['ciuchStopdown']-timing['ciuchStop']).apply(lambda x:x.total_seconds())\n",
    "plt.boxplot([up,mid,down],labels=['ciuchStartup > ciuchStart','ciuchStart > ciuchStop','ciuchStop > ciuchStopdown'])\n",
    "plt.grid()\n",
    "plt.title('durations: Startup>Start, Start>Stop, Stop>Stopdown',size=16)\n",
    "plt.show()"
   ]
  },
  {
   "cell_type": "code",
   "execution_count": 114,
   "metadata": {
    "colab": {
     "base_uri": "https://localhost:8080/",
     "height": 195
    },
    "colab_type": "code",
    "executionInfo": {
     "elapsed": 3388,
     "status": "ok",
     "timestamp": 1588018830442,
     "user": {
      "displayName": "Christophe Loussert",
      "photoUrl": "",
      "userId": "16796903251132996478"
     },
     "user_tz": -120
    },
    "id": "hBRngm050JYb",
    "outputId": "341ba707-9434-448e-8263-fa6023b3b0f3"
   },
   "outputs": [
    {
     "data": {
      "text/html": [
       "<div>\n",
       "<style scoped>\n",
       "    .dataframe tbody tr th:only-of-type {\n",
       "        vertical-align: middle;\n",
       "    }\n",
       "\n",
       "    .dataframe tbody tr th {\n",
       "        vertical-align: top;\n",
       "    }\n",
       "\n",
       "    .dataframe thead th {\n",
       "        text-align: right;\n",
       "    }\n",
       "</style>\n",
       "<table border=\"1\" class=\"dataframe\">\n",
       "  <thead>\n",
       "    <tr style=\"text-align: right;\">\n",
       "      <th></th>\n",
       "      <th>run</th>\n",
       "      <th>refListId</th>\n",
       "      <th>refListId_last</th>\n",
       "      <th>slice_id</th>\n",
       "      <th>slice</th>\n",
       "      <th>ciuchStartup</th>\n",
       "      <th>ciuchStart</th>\n",
       "      <th>ciuchStop</th>\n",
       "      <th>ciuchStopdown</th>\n",
       "      <th>t0_run</th>\n",
       "    </tr>\n",
       "  </thead>\n",
       "  <tbody>\n",
       "    <tr>\n",
       "      <th>0</th>\n",
       "      <td>1</td>\n",
       "      <td>0</td>\n",
       "      <td>0</td>\n",
       "      <td>up_0</td>\n",
       "      <td>2019-11-07 18:53:42.370000000</td>\n",
       "      <td>2019-11-07 18:53:42.370</td>\n",
       "      <td>2019-11-07 18:53:52.370</td>\n",
       "      <td>2019-11-07 18:53:54.197</td>\n",
       "      <td>2019-11-07 18:53:58.417</td>\n",
       "      <td>2019-11-07 18:53:42.370</td>\n",
       "    </tr>\n",
       "    <tr>\n",
       "      <th>1</th>\n",
       "      <td>1</td>\n",
       "      <td>0</td>\n",
       "      <td>0</td>\n",
       "      <td>up_1</td>\n",
       "      <td>2019-11-07 18:53:45.703333333</td>\n",
       "      <td>2019-11-07 18:53:42.370</td>\n",
       "      <td>2019-11-07 18:53:52.370</td>\n",
       "      <td>2019-11-07 18:53:54.197</td>\n",
       "      <td>2019-11-07 18:53:58.417</td>\n",
       "      <td>2019-11-07 18:53:42.370</td>\n",
       "    </tr>\n",
       "    <tr>\n",
       "      <th>2</th>\n",
       "      <td>1</td>\n",
       "      <td>0</td>\n",
       "      <td>0</td>\n",
       "      <td>up_2</td>\n",
       "      <td>2019-11-07 18:53:49.036666666</td>\n",
       "      <td>2019-11-07 18:53:42.370</td>\n",
       "      <td>2019-11-07 18:53:52.370</td>\n",
       "      <td>2019-11-07 18:53:54.197</td>\n",
       "      <td>2019-11-07 18:53:58.417</td>\n",
       "      <td>2019-11-07 18:53:42.370</td>\n",
       "    </tr>\n",
       "    <tr>\n",
       "      <th>3</th>\n",
       "      <td>1</td>\n",
       "      <td>0</td>\n",
       "      <td>0</td>\n",
       "      <td>mid_0</td>\n",
       "      <td>2019-11-07 18:53:52.370000000</td>\n",
       "      <td>2019-11-07 18:53:42.370</td>\n",
       "      <td>2019-11-07 18:53:52.370</td>\n",
       "      <td>2019-11-07 18:53:54.197</td>\n",
       "      <td>2019-11-07 18:53:58.417</td>\n",
       "      <td>2019-11-07 18:53:42.370</td>\n",
       "    </tr>\n",
       "    <tr>\n",
       "      <th>4</th>\n",
       "      <td>1</td>\n",
       "      <td>0</td>\n",
       "      <td>0</td>\n",
       "      <td>mid_1</td>\n",
       "      <td>2019-11-07 18:53:52.979000000</td>\n",
       "      <td>2019-11-07 18:53:42.370</td>\n",
       "      <td>2019-11-07 18:53:52.370</td>\n",
       "      <td>2019-11-07 18:53:54.197</td>\n",
       "      <td>2019-11-07 18:53:58.417</td>\n",
       "      <td>2019-11-07 18:53:42.370</td>\n",
       "    </tr>\n",
       "  </tbody>\n",
       "</table>\n",
       "</div>"
      ],
      "text/plain": [
       "   run  refListId  refListId_last slice_id                         slice  \\\n",
       "0    1          0               0     up_0 2019-11-07 18:53:42.370000000   \n",
       "1    1          0               0     up_1 2019-11-07 18:53:45.703333333   \n",
       "2    1          0               0     up_2 2019-11-07 18:53:49.036666666   \n",
       "3    1          0               0    mid_0 2019-11-07 18:53:52.370000000   \n",
       "4    1          0               0    mid_1 2019-11-07 18:53:52.979000000   \n",
       "\n",
       "             ciuchStartup              ciuchStart               ciuchStop  \\\n",
       "0 2019-11-07 18:53:42.370 2019-11-07 18:53:52.370 2019-11-07 18:53:54.197   \n",
       "1 2019-11-07 18:53:42.370 2019-11-07 18:53:52.370 2019-11-07 18:53:54.197   \n",
       "2 2019-11-07 18:53:42.370 2019-11-07 18:53:52.370 2019-11-07 18:53:54.197   \n",
       "3 2019-11-07 18:53:42.370 2019-11-07 18:53:52.370 2019-11-07 18:53:54.197   \n",
       "4 2019-11-07 18:53:42.370 2019-11-07 18:53:52.370 2019-11-07 18:53:54.197   \n",
       "\n",
       "            ciuchStopdown                  t0_run  \n",
       "0 2019-11-07 18:53:58.417 2019-11-07 18:53:42.370  \n",
       "1 2019-11-07 18:53:58.417 2019-11-07 18:53:42.370  \n",
       "2 2019-11-07 18:53:58.417 2019-11-07 18:53:42.370  \n",
       "3 2019-11-07 18:53:58.417 2019-11-07 18:53:42.370  \n",
       "4 2019-11-07 18:53:58.417 2019-11-07 18:53:42.370  "
      ]
     },
     "execution_count": 114,
     "metadata": {},
     "output_type": "execute_result"
    }
   ],
   "source": [
    "#  full window (ciuchStartup > ciuchStopdown) is sliced in smaller slices\n",
    "# ciuchStartup > ciuchStart: 11 slices named up_0, up_1, ..., up_10\n",
    "# ciuchStart > ciuchStop: 11 slices named mid_0, mid_1, ... mid_10\n",
    "# ciuchStop > ciuchStopdown: 11 slices names down_0, down_1, ... down_10\n",
    "slices=pd.DataFrame()\n",
    "for i, row in timing .iterrows():\n",
    "    ciuchStartup=row['ciuchStartup']\n",
    "    ciuchStart=row['ciuchStart']\n",
    "    ciuchStop=row['ciuchStop']\n",
    "    ciuchStopdown=row['ciuchStopdown']\n",
    "    steps=4\n",
    "#     \n",
    "    up=pd.DataFrame(index=pd.date_range(start=ciuchStartup, end=ciuchStart,periods=steps,closed='left'))\\\n",
    "        .reset_index(drop=False).rename(columns={'index':'slice'})\n",
    "    up.index=['up_'+str(x) for x in range(steps-1)]\n",
    "    slices=slices.append(up)\n",
    "#     \n",
    "    mid=pd.DataFrame(index=pd.date_range(start=ciuchStart, end=ciuchStop,periods=steps,closed='left'))\\\n",
    "        .reset_index(drop=False).rename(columns={'index':'slice'})\n",
    "    mid.index=['mid_'+str(x) for x in range(steps-1)]\n",
    "    slices=slices.append(mid)\n",
    "#     \n",
    "    down=pd.DataFrame(index=pd.date_range(start=ciuchStop, end=ciuchStopdown,periods=steps,closed='left'))\\\n",
    "        .reset_index(drop=False).rename(columns={'index':'slice'})\n",
    "    down.index=['down_'+str(x) for x in range(steps-1)]\n",
    "    slices=slices.append(down)\n",
    "#     slices=slices.append(up)\n",
    "slices=slices.reset_index(drop=False).rename(columns={'index':'slice_id'})\n",
    "# \n",
    "timing_slices=pd.merge_asof(slices,timing,left_on='slice',right_on='ciuchStartup',direction='backward')\n",
    "timing_slices=timing_slices[['run', 'refListId', 'refListId_last','slice_id','slice',  \\\n",
    "                             'ciuchStartup', 'ciuchStart', 'ciuchStop', 'ciuchStopdown','t0_run']]\n",
    "timing_slices.head()"
   ]
  },
  {
   "cell_type": "code",
   "execution_count": 115,
   "metadata": {
    "colab": {
     "base_uri": "https://localhost:8080/",
     "height": 34
    },
    "colab_type": "code",
    "executionInfo": {
     "elapsed": 569,
     "status": "ok",
     "timestamp": 1588018836457,
     "user": {
      "displayName": "Christophe Loussert",
      "photoUrl": "",
      "userId": "16796903251132996478"
     },
     "user_tz": -120
    },
    "id": "KPbdlNfS0JYg",
    "outputId": "5cc74c15-b135-4a6d-f0c7-9dbc7093b163"
   },
   "outputs": [
    {
     "data": {
      "text/plain": [
       "3501"
      ]
     },
     "execution_count": 115,
     "metadata": {},
     "output_type": "execute_result"
    }
   ],
   "source": [
    "len(timing_slices)"
   ]
  },
  {
   "cell_type": "code",
   "execution_count": 116,
   "metadata": {
    "colab": {},
    "colab_type": "code",
    "id": "-Cr7z4100JYq"
   },
   "outputs": [],
   "source": [
    "# merge between df and timing\n",
    "# merge_asof needs sorted df > df_ref\n",
    "df=df[ (df['LogTime']>=timing['ciuchStartup'].min()) & (df['LogTime']<=timing['ciuchStopdown'].max())  ]\n",
    "df=df.sort_values('LogTime')\n",
    "# \n",
    "# each row in df_ref is merged with the last row in timing where timing (ciuchstart_up) < df_ref (logtime)\n",
    "# \n",
    "# df_timing=pd.merge_asof(df_ref,timing,left_on=['LogTime'],right_on=['ciuchStartup'],direction='backward')\n",
    "# df_timing=df_timing.dropna()\n",
    "# df_timing=df_timing.sort_values('LogTime').reset_index(drop=True)\n",
    "# df_timing=df_timing[['run', 'Epc','refListId', 'refListId_last', 'ciuchStartup',\\\n",
    "#                      'LogTime', 'ciuchStop', 'ciuchStopdown','Rssi', 'loc', 'refListId_actual']]\n",
    "# \n",
    "# each row in df_ref is merged with the last row in timing_slices where timing (slice) < df_ref (logtime)\n",
    "# \n",
    "df_timing_slices=pd.merge_asof(df,timing_slices,left_on=['LogTime'],right_on=['slice'],direction='backward')\n",
    "df_timing_slices=df_timing_slices.dropna()\n",
    "df_timing_slices=df_timing_slices.sort_values('slice').reset_index(drop=True)\n",
    "df_timing_slices=df_timing_slices[['run', 'Epc','refListId', 'refListId_last', 'ciuchStartup','slice_id','slice','LogTime', \\\n",
    "                      'ciuchStart','ciuchStop', 'ciuchStopdown', 'Rssi', 'loc','t0_run']]\n"
   ]
  },
  {
   "cell_type": "code",
   "execution_count": 117,
   "metadata": {},
   "outputs": [],
   "source": [
    "# "
   ]
  },
  {
   "cell_type": "code",
   "execution_count": 118,
   "metadata": {
    "colab": {},
    "colab_type": "code",
    "id": "5IQYbPTn0JYx"
   },
   "outputs": [],
   "source": [
    "# df_timing_slices=pd.merge(df_timing_slices, reflist, on='Epc',how='left')\n",
    "# df_timing_slices = df_timing_slices [ ~((df_timing_slices['refListId']==0) & (df_timing_slices['refListId_actual']==9)) ]\n",
    "# # \n",
    "# df_timing_slices = df_timing_slices [ ~((df_timing_slices['refListId']==9) & (df_timing_slices['refListId_actual']==0)) ]\n",
    "# # # \n",
    "# # df_timing_slices = df_timing_slices [ ~((df_timing_slices['refListId']==0) | (df_timing_slices['refListId_actual']==0)) ]\n",
    "\n",
    "# df_timing_slices=df_timing_slices.drop(['refListId_actual','Q refListId_actual'],axis=1)"
   ]
  },
  {
   "cell_type": "code",
   "execution_count": null,
   "metadata": {},
   "outputs": [],
   "source": []
  },
  {
   "cell_type": "code",
   "execution_count": 119,
   "metadata": {
    "colab": {
     "base_uri": "https://localhost:8080/",
     "height": 166
    },
    "colab_type": "code",
    "executionInfo": {
     "elapsed": 764,
     "status": "ok",
     "timestamp": 1588018861284,
     "user": {
      "displayName": "Christophe Loussert",
      "photoUrl": "",
      "userId": "16796903251132996478"
     },
     "user_tz": -120
    },
    "id": "S0km1WAe0JY2",
    "outputId": "aa783a99-a7cf-4ab6-b442-aad6b99ad767"
   },
   "outputs": [
    {
     "data": {
      "text/html": [
       "<div>\n",
       "<style scoped>\n",
       "    .dataframe tbody tr th:only-of-type {\n",
       "        vertical-align: middle;\n",
       "    }\n",
       "\n",
       "    .dataframe tbody tr th {\n",
       "        vertical-align: top;\n",
       "    }\n",
       "\n",
       "    .dataframe thead th {\n",
       "        text-align: right;\n",
       "    }\n",
       "</style>\n",
       "<table border=\"1\" class=\"dataframe\">\n",
       "  <thead>\n",
       "    <tr style=\"text-align: right;\">\n",
       "      <th></th>\n",
       "      <th>run</th>\n",
       "      <th>Q refListId</th>\n",
       "    </tr>\n",
       "  </thead>\n",
       "  <tbody>\n",
       "    <tr>\n",
       "      <th>15</th>\n",
       "      <td>16</td>\n",
       "      <td>9</td>\n",
       "    </tr>\n",
       "    <tr>\n",
       "      <th>22</th>\n",
       "      <td>23</td>\n",
       "      <td>9</td>\n",
       "    </tr>\n",
       "    <tr>\n",
       "      <th>31</th>\n",
       "      <td>32</td>\n",
       "      <td>9</td>\n",
       "    </tr>\n",
       "    <tr>\n",
       "      <th>39</th>\n",
       "      <td>40</td>\n",
       "      <td>2</td>\n",
       "    </tr>\n",
       "  </tbody>\n",
       "</table>\n",
       "</div>"
      ],
      "text/plain": [
       "    run  Q refListId\n",
       "15   16            9\n",
       "22   23            9\n",
       "31   32            9\n",
       "39   40            2"
      ]
     },
     "execution_count": 119,
     "metadata": {},
     "output_type": "execute_result"
    }
   ],
   "source": [
    "runs_out=df_timing_slices .groupby('run')['refListId'].nunique().rename('Q refListId').reset_index(drop=False)\n",
    "runs_out[runs_out['Q refListId']!=10]"
   ]
  },
  {
   "cell_type": "code",
   "execution_count": 120,
   "metadata": {},
   "outputs": [
    {
     "data": {
      "text/html": [
       "<div>\n",
       "<style scoped>\n",
       "    .dataframe tbody tr th:only-of-type {\n",
       "        vertical-align: middle;\n",
       "    }\n",
       "\n",
       "    .dataframe tbody tr th {\n",
       "        vertical-align: top;\n",
       "    }\n",
       "\n",
       "    .dataframe thead th {\n",
       "        text-align: right;\n",
       "    }\n",
       "</style>\n",
       "<table border=\"1\" class=\"dataframe\">\n",
       "  <thead>\n",
       "    <tr style=\"text-align: right;\">\n",
       "      <th></th>\n",
       "      <th>run</th>\n",
       "      <th>refListId</th>\n",
       "      <th>refListId_last</th>\n",
       "      <th>ciuchStop</th>\n",
       "    </tr>\n",
       "  </thead>\n",
       "  <tbody>\n",
       "    <tr>\n",
       "      <th>0</th>\n",
       "      <td>1</td>\n",
       "      <td>0</td>\n",
       "      <td>0</td>\n",
       "      <td>2019-11-07 18:53:54.197</td>\n",
       "    </tr>\n",
       "  </tbody>\n",
       "</table>\n",
       "</div>"
      ],
      "text/plain": [
       "   run  refListId  refListId_last               ciuchStop\n",
       "0    1          0               0 2019-11-07 18:53:54.197"
      ]
     },
     "execution_count": 120,
     "metadata": {},
     "output_type": "execute_result"
    }
   ],
   "source": [
    "current_last_windows=timing_slices.drop_duplicates(['run','refListId','refListId_last'])\n",
    "current_last_windows=current_last_windows[['run','refListId','refListId_last','ciuchStop']].reset_index(drop=True)\n",
    "current_last_windows[:1]"
   ]
  },
  {
   "cell_type": "code",
   "execution_count": 121,
   "metadata": {
    "colab": {},
    "colab_type": "code",
    "id": "55atRD2V0JY5"
   },
   "outputs": [],
   "source": [
    "# runs 16 23 32 40 have missing boxes: discarded\n",
    "# also run 1 is the start, no previous box: discarded\n",
    "# run 18: box 0 run at the end\n",
    "# \n",
    "timing=timing[~timing['run'].isin([1,18,16,23,32,40])]\n",
    "timing_slices=timing_slices[~timing_slices['run'].isin([1,18,16,23,32,40])]\n",
    "df_timing_slices=df_timing_slices[~df_timing_slices['run'].isin([1,18,16,23,32,40])]\n",
    "\n",
    "df_timing_slices=df_timing_slices.sort_values(['LogTime','Epc'])\n",
    "# "
   ]
  },
  {
   "cell_type": "code",
   "execution_count": 122,
   "metadata": {
    "colab": {
     "base_uri": "https://localhost:8080/",
     "height": 34
    },
    "colab_type": "code",
    "executionInfo": {
     "elapsed": 604,
     "status": "ok",
     "timestamp": 1588018865521,
     "user": {
      "displayName": "Christophe Loussert",
      "photoUrl": "",
      "userId": "16796903251132996478"
     },
     "user_tz": -120
    },
    "id": "G6oeU9Hc0JY8",
    "outputId": "4dd5024f-56fe-4f40-f9e8-407065501e56"
   },
   "outputs": [
    {
     "data": {
      "text/plain": [
       "(340, 3060, 307965)"
      ]
     },
     "execution_count": 122,
     "metadata": {},
     "output_type": "execute_result"
    }
   ],
   "source": [
    "len(timing),len(timing_slices), len(df_timing_slices)"
   ]
  },
  {
   "cell_type": "code",
   "execution_count": 123,
   "metadata": {
    "colab": {
     "base_uri": "https://localhost:8080/",
     "height": 130
    },
    "colab_type": "code",
    "executionInfo": {
     "elapsed": 1833,
     "status": "ok",
     "timestamp": 1587999354809,
     "user": {
      "displayName": "Christophe Loussert",
      "photoUrl": "",
      "userId": "16796903251132996478"
     },
     "user_tz": -120
    },
    "id": "P1sFrp-k0JZG",
    "outputId": "b4b32271-8411-479f-bef3-14420379aceb"
   },
   "outputs": [
    {
     "data": {
      "text/html": [
       "<div>\n",
       "<style scoped>\n",
       "    .dataframe tbody tr th:only-of-type {\n",
       "        vertical-align: middle;\n",
       "    }\n",
       "\n",
       "    .dataframe tbody tr th {\n",
       "        vertical-align: top;\n",
       "    }\n",
       "\n",
       "    .dataframe thead th {\n",
       "        text-align: right;\n",
       "    }\n",
       "</style>\n",
       "<table border=\"1\" class=\"dataframe\">\n",
       "  <thead>\n",
       "    <tr style=\"text-align: right;\">\n",
       "      <th></th>\n",
       "      <th>run</th>\n",
       "      <th>Epc</th>\n",
       "      <th>refListId</th>\n",
       "      <th>refListId_last</th>\n",
       "      <th>ciuchStartup</th>\n",
       "      <th>slice_id</th>\n",
       "      <th>slice</th>\n",
       "      <th>LogTime</th>\n",
       "      <th>ciuchStart</th>\n",
       "      <th>ciuchStop</th>\n",
       "      <th>ciuchStopdown</th>\n",
       "      <th>Rssi</th>\n",
       "      <th>loc</th>\n",
       "      <th>t0_run</th>\n",
       "    </tr>\n",
       "  </thead>\n",
       "  <tbody>\n",
       "    <tr>\n",
       "      <th>8970</th>\n",
       "      <td>2</td>\n",
       "      <td>epc_100</td>\n",
       "      <td>0</td>\n",
       "      <td>9</td>\n",
       "      <td>2019-11-07 18:54:55.894500</td>\n",
       "      <td>up_0</td>\n",
       "      <td>2019-11-07 18:54:55.894500</td>\n",
       "      <td>2019-11-07 18:54:56</td>\n",
       "      <td>2019-11-07 18:54:57.738</td>\n",
       "      <td>2019-11-07 18:54:59.584</td>\n",
       "      <td>2019-11-07 18:55:01.765</td>\n",
       "      <td>-68.0</td>\n",
       "      <td>in</td>\n",
       "      <td>2019-11-07 18:54:55.894500</td>\n",
       "    </tr>\n",
       "  </tbody>\n",
       "</table>\n",
       "</div>"
      ],
      "text/plain": [
       "      run      Epc  refListId  refListId_last               ciuchStartup  \\\n",
       "8970    2  epc_100          0               9 2019-11-07 18:54:55.894500   \n",
       "\n",
       "     slice_id                      slice             LogTime  \\\n",
       "8970     up_0 2019-11-07 18:54:55.894500 2019-11-07 18:54:56   \n",
       "\n",
       "                  ciuchStart               ciuchStop           ciuchStopdown  \\\n",
       "8970 2019-11-07 18:54:57.738 2019-11-07 18:54:59.584 2019-11-07 18:55:01.765   \n",
       "\n",
       "      Rssi loc                     t0_run  \n",
       "8970 -68.0  in 2019-11-07 18:54:55.894500  "
      ]
     },
     "execution_count": 123,
     "metadata": {},
     "output_type": "execute_result"
    }
   ],
   "source": [
    "df_timing_slices[:1]"
   ]
  },
  {
   "cell_type": "code",
   "execution_count": 124,
   "metadata": {
    "colab": {},
    "colab_type": "code",
    "id": "V0Xb3nX90JZL"
   },
   "outputs": [],
   "source": [
    "# df_timing_slices['dt']=\n",
    "df_timing_slices['dt']=(df_timing_slices['LogTime']-df_timing_slices['t0_run']).apply(lambda x:x.total_seconds())"
   ]
  },
  {
   "cell_type": "code",
   "execution_count": 125,
   "metadata": {
    "colab": {
     "base_uri": "https://localhost:8080/",
     "height": 94
    },
    "colab_type": "code",
    "executionInfo": {
     "elapsed": 1917,
     "status": "ok",
     "timestamp": 1588018877417,
     "user": {
      "displayName": "Christophe Loussert",
      "photoUrl": "",
      "userId": "16796903251132996478"
     },
     "user_tz": -120
    },
    "id": "Nw4PnZmD0JZQ",
    "outputId": "587f6e33-9477-499d-a1c0-bf01811843d3"
   },
   "outputs": [
    {
     "data": {
      "text/html": [
       "<div>\n",
       "<style scoped>\n",
       "    .dataframe tbody tr th:only-of-type {\n",
       "        vertical-align: middle;\n",
       "    }\n",
       "\n",
       "    .dataframe tbody tr th {\n",
       "        vertical-align: top;\n",
       "    }\n",
       "\n",
       "    .dataframe thead th {\n",
       "        text-align: right;\n",
       "    }\n",
       "</style>\n",
       "<table border=\"1\" class=\"dataframe\">\n",
       "  <thead>\n",
       "    <tr style=\"text-align: right;\">\n",
       "      <th></th>\n",
       "      <th>run</th>\n",
       "      <th>Epc</th>\n",
       "      <th>refListId</th>\n",
       "      <th>refListId_last</th>\n",
       "      <th>ciuchStartup</th>\n",
       "      <th>slice_id</th>\n",
       "      <th>slice</th>\n",
       "      <th>LogTime</th>\n",
       "      <th>ciuchStart</th>\n",
       "      <th>ciuchStop</th>\n",
       "      <th>ciuchStopdown</th>\n",
       "      <th>Rssi</th>\n",
       "      <th>loc</th>\n",
       "      <th>t0_run</th>\n",
       "      <th>dt</th>\n",
       "    </tr>\n",
       "  </thead>\n",
       "  <tbody>\n",
       "    <tr>\n",
       "      <th>8970</th>\n",
       "      <td>2</td>\n",
       "      <td>epc_100</td>\n",
       "      <td>0</td>\n",
       "      <td>9</td>\n",
       "      <td>2019-11-07 18:54:55.894500</td>\n",
       "      <td>up_0</td>\n",
       "      <td>2019-11-07 18:54:55.894500</td>\n",
       "      <td>2019-11-07 18:54:56</td>\n",
       "      <td>2019-11-07 18:54:57.738</td>\n",
       "      <td>2019-11-07 18:54:59.584</td>\n",
       "      <td>2019-11-07 18:55:01.765</td>\n",
       "      <td>-68.0</td>\n",
       "      <td>in</td>\n",
       "      <td>2019-11-07 18:54:55.894500</td>\n",
       "      <td>0.1055</td>\n",
       "    </tr>\n",
       "  </tbody>\n",
       "</table>\n",
       "</div>"
      ],
      "text/plain": [
       "      run      Epc  refListId  refListId_last               ciuchStartup  \\\n",
       "8970    2  epc_100          0               9 2019-11-07 18:54:55.894500   \n",
       "\n",
       "     slice_id                      slice             LogTime  \\\n",
       "8970     up_0 2019-11-07 18:54:55.894500 2019-11-07 18:54:56   \n",
       "\n",
       "                  ciuchStart               ciuchStop           ciuchStopdown  \\\n",
       "8970 2019-11-07 18:54:57.738 2019-11-07 18:54:59.584 2019-11-07 18:55:01.765   \n",
       "\n",
       "      Rssi loc                     t0_run      dt  \n",
       "8970 -68.0  in 2019-11-07 18:54:55.894500  0.1055  "
      ]
     },
     "execution_count": 125,
     "metadata": {},
     "output_type": "execute_result"
    }
   ],
   "source": [
    "df_timing_slices[:1]"
   ]
  },
  {
   "cell_type": "code",
   "execution_count": 126,
   "metadata": {
    "colab": {},
    "colab_type": "code",
    "id": "EjAm_PSS0JZU"
   },
   "outputs": [],
   "source": [
    "# \n",
    "# df_timing_threshold\n",
    "# "
   ]
  },
  {
   "cell_type": "code",
   "execution_count": 127,
   "metadata": {
    "colab": {},
    "colab_type": "code",
    "id": "OnuEm2dM0JZZ"
   },
   "outputs": [],
   "source": [
    "rssi_threshold=-110\n",
    "df_timing_slices_threshold=df_timing_slices[df_timing_slices['Rssi']>rssi_threshold]"
   ]
  },
  {
   "cell_type": "code",
   "execution_count": 128,
   "metadata": {
    "colab": {
     "base_uri": "https://localhost:8080/",
     "height": 84
    },
    "colab_type": "code",
    "executionInfo": {
     "elapsed": 588,
     "status": "ok",
     "timestamp": 1588018880132,
     "user": {
      "displayName": "Christophe Loussert",
      "photoUrl": "",
      "userId": "16796903251132996478"
     },
     "user_tz": -120
    },
    "id": "wfphpSFv0JZd",
    "outputId": "481323e7-24c7-4161-84e0-019495067ecc"
   },
   "outputs": [
    {
     "data": {
      "text/plain": [
       "loc\n",
       "in     100.00\n",
       "out     99.29\n",
       "Name: Epc, dtype: float64"
      ]
     },
     "execution_count": 128,
     "metadata": {},
     "output_type": "execute_result"
    }
   ],
   "source": [
    "# readrate\n",
    "# readrate\n",
    "round(100*df_timing_slices_threshold.reset_index(drop=False).groupby(['run','loc'])['Epc'].nunique().groupby('loc').mean()\\\n",
    "    /reflist['Epc'].nunique(),2)"
   ]
  },
  {
   "cell_type": "markdown",
   "metadata": {},
   "source": [
    "#### Data Cleaning"
   ]
  },
  {
   "cell_type": "code",
   "execution_count": 129,
   "metadata": {},
   "outputs": [
    {
     "data": {
      "text/html": [
       "<div>\n",
       "<style scoped>\n",
       "    .dataframe tbody tr th:only-of-type {\n",
       "        vertical-align: middle;\n",
       "    }\n",
       "\n",
       "    .dataframe tbody tr th {\n",
       "        vertical-align: top;\n",
       "    }\n",
       "\n",
       "    .dataframe thead th {\n",
       "        text-align: right;\n",
       "    }\n",
       "</style>\n",
       "<table border=\"1\" class=\"dataframe\">\n",
       "  <thead>\n",
       "    <tr style=\"text-align: right;\">\n",
       "      <th></th>\n",
       "      <th>run</th>\n",
       "      <th>Epc</th>\n",
       "      <th>refListId</th>\n",
       "      <th>refListId_last</th>\n",
       "      <th>ciuchStartup</th>\n",
       "      <th>slice_id</th>\n",
       "      <th>slice</th>\n",
       "      <th>LogTime</th>\n",
       "      <th>ciuchStart</th>\n",
       "      <th>ciuchStop</th>\n",
       "      <th>ciuchStopdown</th>\n",
       "      <th>Rssi</th>\n",
       "      <th>loc</th>\n",
       "      <th>t0_run</th>\n",
       "      <th>dt</th>\n",
       "    </tr>\n",
       "  </thead>\n",
       "  <tbody>\n",
       "    <tr>\n",
       "      <th>8970</th>\n",
       "      <td>2</td>\n",
       "      <td>epc_100</td>\n",
       "      <td>0</td>\n",
       "      <td>9</td>\n",
       "      <td>2019-11-07 18:54:55.894500</td>\n",
       "      <td>up_0</td>\n",
       "      <td>2019-11-07 18:54:55.894500000</td>\n",
       "      <td>2019-11-07 18:54:56</td>\n",
       "      <td>2019-11-07 18:54:57.738</td>\n",
       "      <td>2019-11-07 18:54:59.584</td>\n",
       "      <td>2019-11-07 18:55:01.765</td>\n",
       "      <td>-68.0</td>\n",
       "      <td>in</td>\n",
       "      <td>2019-11-07 18:54:55.894500</td>\n",
       "      <td>0.1055</td>\n",
       "    </tr>\n",
       "    <tr>\n",
       "      <th>8971</th>\n",
       "      <td>2</td>\n",
       "      <td>epc_100</td>\n",
       "      <td>0</td>\n",
       "      <td>9</td>\n",
       "      <td>2019-11-07 18:54:55.894500</td>\n",
       "      <td>up_0</td>\n",
       "      <td>2019-11-07 18:54:55.894500000</td>\n",
       "      <td>2019-11-07 18:54:56</td>\n",
       "      <td>2019-11-07 18:54:57.738</td>\n",
       "      <td>2019-11-07 18:54:59.584</td>\n",
       "      <td>2019-11-07 18:55:01.765</td>\n",
       "      <td>-47.0</td>\n",
       "      <td>out</td>\n",
       "      <td>2019-11-07 18:54:55.894500</td>\n",
       "      <td>0.1055</td>\n",
       "    </tr>\n",
       "    <tr>\n",
       "      <th>9003</th>\n",
       "      <td>2</td>\n",
       "      <td>epc_100</td>\n",
       "      <td>0</td>\n",
       "      <td>9</td>\n",
       "      <td>2019-11-07 18:54:55.894500</td>\n",
       "      <td>up_0</td>\n",
       "      <td>2019-11-07 18:54:55.894500000</td>\n",
       "      <td>2019-11-07 18:54:56</td>\n",
       "      <td>2019-11-07 18:54:57.738</td>\n",
       "      <td>2019-11-07 18:54:59.584</td>\n",
       "      <td>2019-11-07 18:55:01.765</td>\n",
       "      <td>-54.0</td>\n",
       "      <td>out</td>\n",
       "      <td>2019-11-07 18:54:55.894500</td>\n",
       "      <td>0.1055</td>\n",
       "    </tr>\n",
       "    <tr>\n",
       "      <th>9010</th>\n",
       "      <td>2</td>\n",
       "      <td>epc_100</td>\n",
       "      <td>0</td>\n",
       "      <td>9</td>\n",
       "      <td>2019-11-07 18:54:55.894500</td>\n",
       "      <td>up_0</td>\n",
       "      <td>2019-11-07 18:54:55.894500000</td>\n",
       "      <td>2019-11-07 18:54:56</td>\n",
       "      <td>2019-11-07 18:54:57.738</td>\n",
       "      <td>2019-11-07 18:54:59.584</td>\n",
       "      <td>2019-11-07 18:55:01.765</td>\n",
       "      <td>-50.0</td>\n",
       "      <td>out</td>\n",
       "      <td>2019-11-07 18:54:55.894500</td>\n",
       "      <td>0.1055</td>\n",
       "    </tr>\n",
       "    <tr>\n",
       "      <th>9082</th>\n",
       "      <td>2</td>\n",
       "      <td>epc_100</td>\n",
       "      <td>0</td>\n",
       "      <td>9</td>\n",
       "      <td>2019-11-07 18:54:55.894500</td>\n",
       "      <td>up_0</td>\n",
       "      <td>2019-11-07 18:54:55.894500000</td>\n",
       "      <td>2019-11-07 18:54:56</td>\n",
       "      <td>2019-11-07 18:54:57.738</td>\n",
       "      <td>2019-11-07 18:54:59.584</td>\n",
       "      <td>2019-11-07 18:55:01.765</td>\n",
       "      <td>-69.0</td>\n",
       "      <td>in</td>\n",
       "      <td>2019-11-07 18:54:55.894500</td>\n",
       "      <td>0.1055</td>\n",
       "    </tr>\n",
       "    <tr>\n",
       "      <th>...</th>\n",
       "      <td>...</td>\n",
       "      <td>...</td>\n",
       "      <td>...</td>\n",
       "      <td>...</td>\n",
       "      <td>...</td>\n",
       "      <td>...</td>\n",
       "      <td>...</td>\n",
       "      <td>...</td>\n",
       "      <td>...</td>\n",
       "      <td>...</td>\n",
       "      <td>...</td>\n",
       "      <td>...</td>\n",
       "      <td>...</td>\n",
       "      <td>...</td>\n",
       "      <td>...</td>\n",
       "    </tr>\n",
       "    <tr>\n",
       "      <th>354254</th>\n",
       "      <td>39</td>\n",
       "      <td>epc_99</td>\n",
       "      <td>9</td>\n",
       "      <td>8</td>\n",
       "      <td>2019-11-07 19:34:31.683000</td>\n",
       "      <td>down_1</td>\n",
       "      <td>2019-11-07 19:34:36.340333333</td>\n",
       "      <td>2019-11-07 19:34:37</td>\n",
       "      <td>2019-11-07 19:34:33.696</td>\n",
       "      <td>2019-11-07 19:34:35.671</td>\n",
       "      <td>2019-11-07 19:34:37.679</td>\n",
       "      <td>-62.0</td>\n",
       "      <td>in</td>\n",
       "      <td>2019-11-07 19:33:38.447500</td>\n",
       "      <td>58.5525</td>\n",
       "    </tr>\n",
       "    <tr>\n",
       "      <th>354277</th>\n",
       "      <td>39</td>\n",
       "      <td>epc_99</td>\n",
       "      <td>9</td>\n",
       "      <td>8</td>\n",
       "      <td>2019-11-07 19:34:31.683000</td>\n",
       "      <td>down_1</td>\n",
       "      <td>2019-11-07 19:34:36.340333333</td>\n",
       "      <td>2019-11-07 19:34:37</td>\n",
       "      <td>2019-11-07 19:34:33.696</td>\n",
       "      <td>2019-11-07 19:34:35.671</td>\n",
       "      <td>2019-11-07 19:34:37.679</td>\n",
       "      <td>-51.0</td>\n",
       "      <td>out</td>\n",
       "      <td>2019-11-07 19:33:38.447500</td>\n",
       "      <td>58.5525</td>\n",
       "    </tr>\n",
       "    <tr>\n",
       "      <th>354305</th>\n",
       "      <td>39</td>\n",
       "      <td>epc_99</td>\n",
       "      <td>9</td>\n",
       "      <td>8</td>\n",
       "      <td>2019-11-07 19:34:31.683000</td>\n",
       "      <td>down_1</td>\n",
       "      <td>2019-11-07 19:34:36.340333333</td>\n",
       "      <td>2019-11-07 19:34:37</td>\n",
       "      <td>2019-11-07 19:34:33.696</td>\n",
       "      <td>2019-11-07 19:34:35.671</td>\n",
       "      <td>2019-11-07 19:34:37.679</td>\n",
       "      <td>-62.0</td>\n",
       "      <td>in</td>\n",
       "      <td>2019-11-07 19:33:38.447500</td>\n",
       "      <td>58.5525</td>\n",
       "    </tr>\n",
       "    <tr>\n",
       "      <th>354353</th>\n",
       "      <td>39</td>\n",
       "      <td>epc_99</td>\n",
       "      <td>9</td>\n",
       "      <td>8</td>\n",
       "      <td>2019-11-07 19:34:31.683000</td>\n",
       "      <td>down_1</td>\n",
       "      <td>2019-11-07 19:34:36.340333333</td>\n",
       "      <td>2019-11-07 19:34:37</td>\n",
       "      <td>2019-11-07 19:34:33.696</td>\n",
       "      <td>2019-11-07 19:34:35.671</td>\n",
       "      <td>2019-11-07 19:34:37.679</td>\n",
       "      <td>-49.0</td>\n",
       "      <td>out</td>\n",
       "      <td>2019-11-07 19:33:38.447500</td>\n",
       "      <td>58.5525</td>\n",
       "    </tr>\n",
       "    <tr>\n",
       "      <th>354360</th>\n",
       "      <td>39</td>\n",
       "      <td>epc_99</td>\n",
       "      <td>9</td>\n",
       "      <td>8</td>\n",
       "      <td>2019-11-07 19:34:31.683000</td>\n",
       "      <td>down_1</td>\n",
       "      <td>2019-11-07 19:34:36.340333333</td>\n",
       "      <td>2019-11-07 19:34:37</td>\n",
       "      <td>2019-11-07 19:34:33.696</td>\n",
       "      <td>2019-11-07 19:34:35.671</td>\n",
       "      <td>2019-11-07 19:34:37.679</td>\n",
       "      <td>-49.0</td>\n",
       "      <td>out</td>\n",
       "      <td>2019-11-07 19:33:38.447500</td>\n",
       "      <td>58.5525</td>\n",
       "    </tr>\n",
       "  </tbody>\n",
       "</table>\n",
       "<p>307965 rows × 15 columns</p>\n",
       "</div>"
      ],
      "text/plain": [
       "        run      Epc  refListId  refListId_last               ciuchStartup  \\\n",
       "8970      2  epc_100          0               9 2019-11-07 18:54:55.894500   \n",
       "8971      2  epc_100          0               9 2019-11-07 18:54:55.894500   \n",
       "9003      2  epc_100          0               9 2019-11-07 18:54:55.894500   \n",
       "9010      2  epc_100          0               9 2019-11-07 18:54:55.894500   \n",
       "9082      2  epc_100          0               9 2019-11-07 18:54:55.894500   \n",
       "...     ...      ...        ...             ...                        ...   \n",
       "354254   39   epc_99          9               8 2019-11-07 19:34:31.683000   \n",
       "354277   39   epc_99          9               8 2019-11-07 19:34:31.683000   \n",
       "354305   39   epc_99          9               8 2019-11-07 19:34:31.683000   \n",
       "354353   39   epc_99          9               8 2019-11-07 19:34:31.683000   \n",
       "354360   39   epc_99          9               8 2019-11-07 19:34:31.683000   \n",
       "\n",
       "       slice_id                         slice             LogTime  \\\n",
       "8970       up_0 2019-11-07 18:54:55.894500000 2019-11-07 18:54:56   \n",
       "8971       up_0 2019-11-07 18:54:55.894500000 2019-11-07 18:54:56   \n",
       "9003       up_0 2019-11-07 18:54:55.894500000 2019-11-07 18:54:56   \n",
       "9010       up_0 2019-11-07 18:54:55.894500000 2019-11-07 18:54:56   \n",
       "9082       up_0 2019-11-07 18:54:55.894500000 2019-11-07 18:54:56   \n",
       "...         ...                           ...                 ...   \n",
       "354254   down_1 2019-11-07 19:34:36.340333333 2019-11-07 19:34:37   \n",
       "354277   down_1 2019-11-07 19:34:36.340333333 2019-11-07 19:34:37   \n",
       "354305   down_1 2019-11-07 19:34:36.340333333 2019-11-07 19:34:37   \n",
       "354353   down_1 2019-11-07 19:34:36.340333333 2019-11-07 19:34:37   \n",
       "354360   down_1 2019-11-07 19:34:36.340333333 2019-11-07 19:34:37   \n",
       "\n",
       "                    ciuchStart               ciuchStop  \\\n",
       "8970   2019-11-07 18:54:57.738 2019-11-07 18:54:59.584   \n",
       "8971   2019-11-07 18:54:57.738 2019-11-07 18:54:59.584   \n",
       "9003   2019-11-07 18:54:57.738 2019-11-07 18:54:59.584   \n",
       "9010   2019-11-07 18:54:57.738 2019-11-07 18:54:59.584   \n",
       "9082   2019-11-07 18:54:57.738 2019-11-07 18:54:59.584   \n",
       "...                        ...                     ...   \n",
       "354254 2019-11-07 19:34:33.696 2019-11-07 19:34:35.671   \n",
       "354277 2019-11-07 19:34:33.696 2019-11-07 19:34:35.671   \n",
       "354305 2019-11-07 19:34:33.696 2019-11-07 19:34:35.671   \n",
       "354353 2019-11-07 19:34:33.696 2019-11-07 19:34:35.671   \n",
       "354360 2019-11-07 19:34:33.696 2019-11-07 19:34:35.671   \n",
       "\n",
       "                 ciuchStopdown  Rssi  loc                     t0_run       dt  \n",
       "8970   2019-11-07 18:55:01.765 -68.0   in 2019-11-07 18:54:55.894500   0.1055  \n",
       "8971   2019-11-07 18:55:01.765 -47.0  out 2019-11-07 18:54:55.894500   0.1055  \n",
       "9003   2019-11-07 18:55:01.765 -54.0  out 2019-11-07 18:54:55.894500   0.1055  \n",
       "9010   2019-11-07 18:55:01.765 -50.0  out 2019-11-07 18:54:55.894500   0.1055  \n",
       "9082   2019-11-07 18:55:01.765 -69.0   in 2019-11-07 18:54:55.894500   0.1055  \n",
       "...                        ...   ...  ...                        ...      ...  \n",
       "354254 2019-11-07 19:34:37.679 -62.0   in 2019-11-07 19:33:38.447500  58.5525  \n",
       "354277 2019-11-07 19:34:37.679 -51.0  out 2019-11-07 19:33:38.447500  58.5525  \n",
       "354305 2019-11-07 19:34:37.679 -62.0   in 2019-11-07 19:33:38.447500  58.5525  \n",
       "354353 2019-11-07 19:34:37.679 -49.0  out 2019-11-07 19:33:38.447500  58.5525  \n",
       "354360 2019-11-07 19:34:37.679 -49.0  out 2019-11-07 19:33:38.447500  58.5525  \n",
       "\n",
       "[307965 rows x 15 columns]"
      ]
     },
     "execution_count": 129,
     "metadata": {},
     "output_type": "execute_result"
    }
   ],
   "source": [
    "pd.set_option('display.max_rows', 10)\n",
    "df_timing_slices"
   ]
  },
  {
   "cell_type": "code",
   "execution_count": 130,
   "metadata": {},
   "outputs": [
    {
     "data": {
      "text/plain": [
       "run               0\n",
       "Epc               0\n",
       "refListId         0\n",
       "refListId_last    0\n",
       "ciuchStartup      0\n",
       "                 ..\n",
       "ciuchStopdown     0\n",
       "Rssi              0\n",
       "loc               0\n",
       "t0_run            0\n",
       "dt                0\n",
       "Length: 15, dtype: int64"
      ]
     },
     "execution_count": 130,
     "metadata": {},
     "output_type": "execute_result"
    }
   ],
   "source": [
    "#gestion des valeurs manquantes\n",
    "data = df_timing_slices.copy()\n",
    "data.isna().sum()"
   ]
  },
  {
   "cell_type": "code",
   "execution_count": 131,
   "metadata": {},
   "outputs": [
    {
     "data": {
      "text/html": [
       "<div>\n",
       "<style scoped>\n",
       "    .dataframe tbody tr th:only-of-type {\n",
       "        vertical-align: middle;\n",
       "    }\n",
       "\n",
       "    .dataframe tbody tr th {\n",
       "        vertical-align: top;\n",
       "    }\n",
       "\n",
       "    .dataframe thead th {\n",
       "        text-align: right;\n",
       "    }\n",
       "</style>\n",
       "<table border=\"1\" class=\"dataframe\">\n",
       "  <thead>\n",
       "    <tr style=\"text-align: right;\">\n",
       "      <th></th>\n",
       "      <th>Epc</th>\n",
       "      <th>slice_id</th>\n",
       "      <th>loc</th>\n",
       "    </tr>\n",
       "  </thead>\n",
       "  <tbody>\n",
       "    <tr>\n",
       "      <th>count</th>\n",
       "      <td>307965</td>\n",
       "      <td>307965</td>\n",
       "      <td>307965</td>\n",
       "    </tr>\n",
       "    <tr>\n",
       "      <th>unique</th>\n",
       "      <td>202</td>\n",
       "      <td>9</td>\n",
       "      <td>2</td>\n",
       "    </tr>\n",
       "    <tr>\n",
       "      <th>top</th>\n",
       "      <td>epc_139</td>\n",
       "      <td>down_2</td>\n",
       "      <td>in</td>\n",
       "    </tr>\n",
       "    <tr>\n",
       "      <th>freq</th>\n",
       "      <td>5511</td>\n",
       "      <td>36641</td>\n",
       "      <td>202497</td>\n",
       "    </tr>\n",
       "  </tbody>\n",
       "</table>\n",
       "</div>"
      ],
      "text/plain": [
       "            Epc slice_id     loc\n",
       "count    307965   307965  307965\n",
       "unique      202        9       2\n",
       "top     epc_139   down_2      in\n",
       "freq       5511    36641  202497"
      ]
     },
     "execution_count": 131,
     "metadata": {},
     "output_type": "execute_result"
    }
   ],
   "source": [
    "#on affiche les variables catégorielles\n",
    "df_timing_slices.describe(include='O')"
   ]
  },
  {
   "cell_type": "code",
   "execution_count": 132,
   "metadata": {},
   "outputs": [],
   "source": [
    "# Renseigner les valeurs manquantes\n",
    "#cat_data=[]\n",
    "#num_data=[]\n",
    "#for i,c in enumerate(df_timing_slices.dtypes):\n",
    "#  if c==object:\n",
    "#    cat_data.append(df_timing_slices.iloc[:,i])\n",
    "#  else:\n",
    "#    num_data.append(df_timing_slices.iloc[:,i])\n",
    "#cat_data=pd.DataFrame(cat_data).transpose()\n",
    "#num_data=pd.DataFrame(num_data, dtype='object').transpose()"
   ]
  },
  {
   "cell_type": "code",
   "execution_count": 133,
   "metadata": {},
   "outputs": [],
   "source": [
    "# séparation des variables catégoriques et numériques\n",
    "cat_data=[]\n",
    "for i,c in enumerate(df_timing_slices.dtypes):\n",
    "  if c==object:\n",
    "    cat_data.append(df_timing_slices.iloc[:,i])\n",
    "\n",
    "cat_data=pd.DataFrame(cat_data).transpose()\n",
    "df_timing_slices.drop('Epc', axis=1,inplace=True)\n",
    "df_timing_slices.drop('slice_id', axis=1,inplace=True)\n",
    "df_timing_slices.drop('loc', axis=1,inplace=True)\n",
    "df_timing_slices.drop('ciuchStartup', axis=1,inplace=True)\n",
    "df_timing_slices.drop('slice', axis=1,inplace=True)\n",
    "df_timing_slices.drop('LogTime', axis=1,inplace=True)\n",
    "df_timing_slices.drop('ciuchStart', axis=1,inplace=True)\n",
    "df_timing_slices.drop('ciuchStop', axis=1,inplace=True)\n",
    "df_timing_slices.drop('ciuchStopdown', axis=1,inplace=True)\n",
    "df_timing_slices.drop('t0_run', axis=1,inplace=True)"
   ]
  },
  {
   "cell_type": "code",
   "execution_count": 134,
   "metadata": {},
   "outputs": [
    {
     "data": {
      "text/plain": [
       "8970      1\n",
       "8971      0\n",
       "9003      0\n",
       "9010      0\n",
       "9082      1\n",
       "         ..\n",
       "354254    1\n",
       "354277    0\n",
       "354305    1\n",
       "354353    0\n",
       "354360    0\n",
       "Name: loc, Length: 307965, dtype: int64"
      ]
     },
     "execution_count": 134,
     "metadata": {},
     "output_type": "execute_result"
    }
   ],
   "source": [
    "# Tranformer la colonne target\n",
    "target_value={'in':1,'out':0}\n",
    "target=cat_data['loc']\n",
    "cat_data.drop('loc',axis=1,inplace=True)\n",
    "target=target.map(target_value)\n",
    "target"
   ]
  },
  {
   "cell_type": "code",
   "execution_count": 135,
   "metadata": {},
   "outputs": [
    {
     "data": {
      "text/html": [
       "<div>\n",
       "<style scoped>\n",
       "    .dataframe tbody tr th:only-of-type {\n",
       "        vertical-align: middle;\n",
       "    }\n",
       "\n",
       "    .dataframe tbody tr th {\n",
       "        vertical-align: top;\n",
       "    }\n",
       "\n",
       "    .dataframe thead th {\n",
       "        text-align: right;\n",
       "    }\n",
       "</style>\n",
       "<table border=\"1\" class=\"dataframe\">\n",
       "  <thead>\n",
       "    <tr style=\"text-align: right;\">\n",
       "      <th></th>\n",
       "      <th>Epc</th>\n",
       "      <th>slice_id</th>\n",
       "    </tr>\n",
       "  </thead>\n",
       "  <tbody>\n",
       "    <tr>\n",
       "      <th>8970</th>\n",
       "      <td>3</td>\n",
       "      <td>6</td>\n",
       "    </tr>\n",
       "    <tr>\n",
       "      <th>8971</th>\n",
       "      <td>3</td>\n",
       "      <td>6</td>\n",
       "    </tr>\n",
       "    <tr>\n",
       "      <th>9003</th>\n",
       "      <td>3</td>\n",
       "      <td>6</td>\n",
       "    </tr>\n",
       "    <tr>\n",
       "      <th>9010</th>\n",
       "      <td>3</td>\n",
       "      <td>6</td>\n",
       "    </tr>\n",
       "    <tr>\n",
       "      <th>9082</th>\n",
       "      <td>3</td>\n",
       "      <td>6</td>\n",
       "    </tr>\n",
       "    <tr>\n",
       "      <th>...</th>\n",
       "      <td>...</td>\n",
       "      <td>...</td>\n",
       "    </tr>\n",
       "    <tr>\n",
       "      <th>354254</th>\n",
       "      <td>201</td>\n",
       "      <td>1</td>\n",
       "    </tr>\n",
       "    <tr>\n",
       "      <th>354277</th>\n",
       "      <td>201</td>\n",
       "      <td>1</td>\n",
       "    </tr>\n",
       "    <tr>\n",
       "      <th>354305</th>\n",
       "      <td>201</td>\n",
       "      <td>1</td>\n",
       "    </tr>\n",
       "    <tr>\n",
       "      <th>354353</th>\n",
       "      <td>201</td>\n",
       "      <td>1</td>\n",
       "    </tr>\n",
       "    <tr>\n",
       "      <th>354360</th>\n",
       "      <td>201</td>\n",
       "      <td>1</td>\n",
       "    </tr>\n",
       "  </tbody>\n",
       "</table>\n",
       "<p>307965 rows × 2 columns</p>\n",
       "</div>"
      ],
      "text/plain": [
       "        Epc  slice_id\n",
       "8970      3         6\n",
       "8971      3         6\n",
       "9003      3         6\n",
       "9010      3         6\n",
       "9082      3         6\n",
       "...     ...       ...\n",
       "354254  201         1\n",
       "354277  201         1\n",
       "354305  201         1\n",
       "354353  201         1\n",
       "354360  201         1\n",
       "\n",
       "[307965 rows x 2 columns]"
      ]
     },
     "execution_count": 135,
     "metadata": {},
     "output_type": "execute_result"
    }
   ],
   "source": [
    "# Remplacer les valeurs catégoriques par des valeurs numérique 0,1,2...\n",
    "le=LabelEncoder()\n",
    "for i in cat_data:\n",
    "  cat_data[i]=le.fit_transform(cat_data[i])\n",
    "cat_data"
   ]
  },
  {
   "cell_type": "code",
   "execution_count": 136,
   "metadata": {},
   "outputs": [],
   "source": [
    "# Concatener cat_Data et num_data et spécifier la colonne target\n",
    "X=pd.concat([cat_data, df_timing_slices], axis=1)\n",
    "y=target"
   ]
  },
  {
   "cell_type": "code",
   "execution_count": 137,
   "metadata": {},
   "outputs": [
    {
     "data": {
      "text/plain": [
       "8970      1\n",
       "8971      0\n",
       "9003      0\n",
       "9010      0\n",
       "9082      1\n",
       "         ..\n",
       "354254    1\n",
       "354277    0\n",
       "354305    1\n",
       "354353    0\n",
       "354360    0\n",
       "Name: loc, Length: 307965, dtype: int64"
      ]
     },
     "execution_count": 137,
     "metadata": {},
     "output_type": "execute_result"
    }
   ],
   "source": [
    "y"
   ]
  },
  {
   "cell_type": "markdown",
   "metadata": {},
   "source": [
    "#### Analyse exploratoire"
   ]
  },
  {
   "cell_type": "code",
   "execution_count": 138,
   "metadata": {},
   "outputs": [
    {
     "data": {
      "text/plain": [
       "1    202497\n",
       "0    105468\n",
       "Name: loc, dtype: int64"
      ]
     },
     "execution_count": 138,
     "metadata": {},
     "output_type": "execute_result"
    }
   ],
   "source": [
    "#on commence par la variable target\n",
    "target.value_counts()"
   ]
  },
  {
   "cell_type": "code",
   "execution_count": 139,
   "metadata": {},
   "outputs": [
    {
     "data": {
      "text/html": [
       "<div>\n",
       "<style scoped>\n",
       "    .dataframe tbody tr th:only-of-type {\n",
       "        vertical-align: middle;\n",
       "    }\n",
       "\n",
       "    .dataframe tbody tr th {\n",
       "        vertical-align: top;\n",
       "    }\n",
       "\n",
       "    .dataframe thead th {\n",
       "        text-align: right;\n",
       "    }\n",
       "</style>\n",
       "<table border=\"1\" class=\"dataframe\">\n",
       "  <thead>\n",
       "    <tr style=\"text-align: right;\">\n",
       "      <th></th>\n",
       "      <th>Epc</th>\n",
       "      <th>slice_id</th>\n",
       "      <th>run</th>\n",
       "      <th>refListId</th>\n",
       "      <th>refListId_last</th>\n",
       "      <th>Rssi</th>\n",
       "      <th>dt</th>\n",
       "      <th>loc</th>\n",
       "    </tr>\n",
       "  </thead>\n",
       "  <tbody>\n",
       "    <tr>\n",
       "      <th>8970</th>\n",
       "      <td>3</td>\n",
       "      <td>6</td>\n",
       "      <td>2</td>\n",
       "      <td>0</td>\n",
       "      <td>9</td>\n",
       "      <td>-68.0</td>\n",
       "      <td>0.1055</td>\n",
       "      <td>1</td>\n",
       "    </tr>\n",
       "    <tr>\n",
       "      <th>8971</th>\n",
       "      <td>3</td>\n",
       "      <td>6</td>\n",
       "      <td>2</td>\n",
       "      <td>0</td>\n",
       "      <td>9</td>\n",
       "      <td>-47.0</td>\n",
       "      <td>0.1055</td>\n",
       "      <td>0</td>\n",
       "    </tr>\n",
       "    <tr>\n",
       "      <th>9003</th>\n",
       "      <td>3</td>\n",
       "      <td>6</td>\n",
       "      <td>2</td>\n",
       "      <td>0</td>\n",
       "      <td>9</td>\n",
       "      <td>-54.0</td>\n",
       "      <td>0.1055</td>\n",
       "      <td>0</td>\n",
       "    </tr>\n",
       "    <tr>\n",
       "      <th>9010</th>\n",
       "      <td>3</td>\n",
       "      <td>6</td>\n",
       "      <td>2</td>\n",
       "      <td>0</td>\n",
       "      <td>9</td>\n",
       "      <td>-50.0</td>\n",
       "      <td>0.1055</td>\n",
       "      <td>0</td>\n",
       "    </tr>\n",
       "    <tr>\n",
       "      <th>9082</th>\n",
       "      <td>3</td>\n",
       "      <td>6</td>\n",
       "      <td>2</td>\n",
       "      <td>0</td>\n",
       "      <td>9</td>\n",
       "      <td>-69.0</td>\n",
       "      <td>0.1055</td>\n",
       "      <td>1</td>\n",
       "    </tr>\n",
       "    <tr>\n",
       "      <th>...</th>\n",
       "      <td>...</td>\n",
       "      <td>...</td>\n",
       "      <td>...</td>\n",
       "      <td>...</td>\n",
       "      <td>...</td>\n",
       "      <td>...</td>\n",
       "      <td>...</td>\n",
       "      <td>...</td>\n",
       "    </tr>\n",
       "    <tr>\n",
       "      <th>354254</th>\n",
       "      <td>201</td>\n",
       "      <td>1</td>\n",
       "      <td>39</td>\n",
       "      <td>9</td>\n",
       "      <td>8</td>\n",
       "      <td>-62.0</td>\n",
       "      <td>58.5525</td>\n",
       "      <td>1</td>\n",
       "    </tr>\n",
       "    <tr>\n",
       "      <th>354277</th>\n",
       "      <td>201</td>\n",
       "      <td>1</td>\n",
       "      <td>39</td>\n",
       "      <td>9</td>\n",
       "      <td>8</td>\n",
       "      <td>-51.0</td>\n",
       "      <td>58.5525</td>\n",
       "      <td>0</td>\n",
       "    </tr>\n",
       "    <tr>\n",
       "      <th>354305</th>\n",
       "      <td>201</td>\n",
       "      <td>1</td>\n",
       "      <td>39</td>\n",
       "      <td>9</td>\n",
       "      <td>8</td>\n",
       "      <td>-62.0</td>\n",
       "      <td>58.5525</td>\n",
       "      <td>1</td>\n",
       "    </tr>\n",
       "    <tr>\n",
       "      <th>354353</th>\n",
       "      <td>201</td>\n",
       "      <td>1</td>\n",
       "      <td>39</td>\n",
       "      <td>9</td>\n",
       "      <td>8</td>\n",
       "      <td>-49.0</td>\n",
       "      <td>58.5525</td>\n",
       "      <td>0</td>\n",
       "    </tr>\n",
       "    <tr>\n",
       "      <th>354360</th>\n",
       "      <td>201</td>\n",
       "      <td>1</td>\n",
       "      <td>39</td>\n",
       "      <td>9</td>\n",
       "      <td>8</td>\n",
       "      <td>-49.0</td>\n",
       "      <td>58.5525</td>\n",
       "      <td>0</td>\n",
       "    </tr>\n",
       "  </tbody>\n",
       "</table>\n",
       "<p>307965 rows × 8 columns</p>\n",
       "</div>"
      ],
      "text/plain": [
       "        Epc  slice_id  run  refListId  refListId_last  Rssi       dt  loc\n",
       "8970      3         6    2          0               9 -68.0   0.1055    1\n",
       "8971      3         6    2          0               9 -47.0   0.1055    0\n",
       "9003      3         6    2          0               9 -54.0   0.1055    0\n",
       "9010      3         6    2          0               9 -50.0   0.1055    0\n",
       "9082      3         6    2          0               9 -69.0   0.1055    1\n",
       "...     ...       ...  ...        ...             ...   ...      ...  ...\n",
       "354254  201         1   39          9               8 -62.0  58.5525    1\n",
       "354277  201         1   39          9               8 -51.0  58.5525    0\n",
       "354305  201         1   39          9               8 -62.0  58.5525    1\n",
       "354353  201         1   39          9               8 -49.0  58.5525    0\n",
       "354360  201         1   39          9               8 -49.0  58.5525    0\n",
       "\n",
       "[307965 rows x 8 columns]"
      ]
     },
     "execution_count": 139,
     "metadata": {},
     "output_type": "execute_result"
    }
   ],
   "source": [
    "# la base de données utilisée pour EDA\n",
    "df=pd.concat([cat_data, df_timing_slices, target], axis=1)\n",
    "df"
   ]
  },
  {
   "cell_type": "code",
   "execution_count": 140,
   "metadata": {},
   "outputs": [
    {
     "name": "stdout",
     "output_type": "stream",
     "text": [
      "le pourcentage de \"in\" est: 0.34246748818859285\n",
      "le pourcentage de \"out\" est: 0.6575325118114071\n"
     ]
    },
    {
     "name": "stderr",
     "output_type": "stream",
     "text": [
      "C:\\Users\\halid\\anaconda3\\lib\\site-packages\\seaborn\\_decorators.py:36: FutureWarning: Pass the following variable as a keyword arg: x. From version 0.12, the only valid positional argument will be `data`, and passing other arguments without an explicit keyword will result in an error or misinterpretation.\n",
      "  warnings.warn(\n"
     ]
    },
    {
     "data": {
      "image/png": "[encoded data removed]",
      "text/plain": [
       "<Figure size 576x432 with 1 Axes>"
      ]
     },
     "metadata": {
      "needs_background": "light"
     },
     "output_type": "display_data"
    }
   ],
   "source": [
    "plt.figure(figsize=(8,6))\n",
    "sns.countplot(target)\n",
    "inn=target.value_counts()[0]/len(target)\n",
    "out=target.value_counts()[1]/len(target)\n",
    "print(f'le pourcentage de \"in\" est: {inn}')\n",
    "print(f'le pourcentage de \"out\" est: {out}')"
   ]
  },
  {
   "cell_type": "code",
   "execution_count": 141,
   "metadata": {},
   "outputs": [
    {
     "name": "stderr",
     "output_type": "stream",
     "text": [
      "C:\\Users\\halid\\anaconda3\\lib\\site-packages\\seaborn\\axisgrid.py:316: UserWarning: The `size` parameter has been renamed to `height`; please update your code.\n",
      "  warnings.warn(msg, UserWarning)\n",
      "C:\\Users\\halid\\anaconda3\\lib\\site-packages\\seaborn\\axisgrid.py:643: UserWarning: Using the countplot function without specifying `order` is likely to produce an incorrect plot.\n",
      "  warnings.warn(warning)\n"
     ]
    },
    {
     "data": {
      "text/plain": [
       "<seaborn.axisgrid.FacetGrid at 0x1bc38572730>"
      ]
     },
     "execution_count": 141,
     "metadata": {},
     "output_type": "execute_result"
    },
    {
     "data": {
      "image/png": "[encoded data removed]",
      "text/plain": [
       "<Figure size 1440x360 with 2 Axes>"
      ]
     },
     "metadata": {
      "needs_background": "light"
     },
     "output_type": "display_data"
    }
   ],
   "source": [
    "# Epc\n",
    "grid=sns.FacetGrid(df,col='loc',size=5,aspect=2)\n",
    "grid.map(sns.countplot,'Epc')"
   ]
  },
  {
   "cell_type": "code",
   "execution_count": 142,
   "metadata": {},
   "outputs": [
    {
     "name": "stderr",
     "output_type": "stream",
     "text": [
      "C:\\Users\\halid\\anaconda3\\lib\\site-packages\\seaborn\\axisgrid.py:316: UserWarning: The `size` parameter has been renamed to `height`; please update your code.\n",
      "  warnings.warn(msg, UserWarning)\n",
      "C:\\Users\\halid\\anaconda3\\lib\\site-packages\\seaborn\\axisgrid.py:643: UserWarning: Using the countplot function without specifying `order` is likely to produce an incorrect plot.\n",
      "  warnings.warn(warning)\n"
     ]
    },
    {
     "data": {
      "text/plain": [
       "<seaborn.axisgrid.FacetGrid at 0x1bc384fc730>"
      ]
     },
     "execution_count": 142,
     "metadata": {},
     "output_type": "execute_result"
    },
    {
     "data": {
      "image/png": "[encoded data removed]",
      "text/plain": [
       "<Figure size 1440x360 with 2 Axes>"
      ]
     },
     "metadata": {
      "needs_background": "light"
     },
     "output_type": "display_data"
    }
   ],
   "source": [
    "# slice_id\n",
    "grid=sns.FacetGrid(df,col='loc',size=5,aspect=2)\n",
    "grid.map(sns.countplot,'slice_id')"
   ]
  },
  {
   "cell_type": "code",
   "execution_count": 143,
   "metadata": {},
   "outputs": [
    {
     "data": {
      "text/plain": [
       "<matplotlib.collections.PathCollection at 0x1bc42142a00>"
      ]
     },
     "execution_count": 143,
     "metadata": {},
     "output_type": "execute_result"
    },
    {
     "data": {
      "image/png": "[encoded data removed]",
      "text/plain": [
       "<Figure size 432x288 with 1 Axes>"
      ]
     },
     "metadata": {
      "needs_background": "light"
     },
     "output_type": "display_data"
    }
   ],
   "source": [
    "# run\n",
    "plt.scatter(df['run'],df['loc'])"
   ]
  },
  {
   "cell_type": "code",
   "execution_count": 144,
   "metadata": {},
   "outputs": [
    {
     "data": {
      "text/plain": [
       "<matplotlib.collections.PathCollection at 0x1bc421c6700>"
      ]
     },
     "execution_count": 144,
     "metadata": {},
     "output_type": "execute_result"
    },
    {
     "data": {
      "image/png": "[encoded data removed]",
      "text/plain": [
       "<Figure size 432x288 with 1 Axes>"
      ]
     },
     "metadata": {
      "needs_background": "light"
     },
     "output_type": "display_data"
    }
   ],
   "source": [
    "# Rssi\n",
    "plt.scatter(df['Rssi'],df['loc'])"
   ]
  },
  {
   "cell_type": "code",
   "execution_count": 145,
   "metadata": {},
   "outputs": [
    {
     "data": {
      "text/plain": [
       "<matplotlib.collections.PathCollection at 0x1bc42267fd0>"
      ]
     },
     "execution_count": 145,
     "metadata": {},
     "output_type": "execute_result"
    },
    {
     "data": {
      "image/png": "[encoded data removed]",
      "text/plain": [
       "<Figure size 432x288 with 1 Axes>"
      ]
     },
     "metadata": {
      "needs_background": "light"
     },
     "output_type": "display_data"
    }
   ],
   "source": [
    "# dt\n",
    "plt.scatter(df['dt'],df['loc'])"
   ]
  },
  {
   "cell_type": "code",
   "execution_count": 146,
   "metadata": {},
   "outputs": [
    {
     "data": {
      "text/html": [
       "<div>\n",
       "<style scoped>\n",
       "    .dataframe tbody tr th:only-of-type {\n",
       "        vertical-align: middle;\n",
       "    }\n",
       "\n",
       "    .dataframe tbody tr th {\n",
       "        vertical-align: top;\n",
       "    }\n",
       "\n",
       "    .dataframe thead th {\n",
       "        text-align: right;\n",
       "    }\n",
       "</style>\n",
       "<table border=\"1\" class=\"dataframe\">\n",
       "  <thead>\n",
       "    <tr style=\"text-align: right;\">\n",
       "      <th></th>\n",
       "      <th>Epc</th>\n",
       "      <th>slice_id</th>\n",
       "      <th>run</th>\n",
       "      <th>refListId</th>\n",
       "      <th>refListId_last</th>\n",
       "      <th>Rssi</th>\n",
       "      <th>dt</th>\n",
       "    </tr>\n",
       "    <tr>\n",
       "      <th>loc</th>\n",
       "      <th></th>\n",
       "      <th></th>\n",
       "      <th></th>\n",
       "      <th></th>\n",
       "      <th></th>\n",
       "      <th></th>\n",
       "      <th></th>\n",
       "    </tr>\n",
       "  </thead>\n",
       "  <tbody>\n",
       "    <tr>\n",
       "      <th>0</th>\n",
       "      <td>100</td>\n",
       "      <td>4</td>\n",
       "      <td>21</td>\n",
       "      <td>4</td>\n",
       "      <td>4</td>\n",
       "      <td>-58.0</td>\n",
       "      <td>30.5525</td>\n",
       "    </tr>\n",
       "    <tr>\n",
       "      <th>1</th>\n",
       "      <td>95</td>\n",
       "      <td>4</td>\n",
       "      <td>20</td>\n",
       "      <td>5</td>\n",
       "      <td>5</td>\n",
       "      <td>-61.0</td>\n",
       "      <td>34.2400</td>\n",
       "    </tr>\n",
       "  </tbody>\n",
       "</table>\n",
       "</div>"
      ],
      "text/plain": [
       "     Epc  slice_id  run  refListId  refListId_last  Rssi       dt\n",
       "loc                                                              \n",
       "0    100         4   21          4               4 -58.0  30.5525\n",
       "1     95         4   20          5               5 -61.0  34.2400"
      ]
     },
     "execution_count": 146,
     "metadata": {},
     "output_type": "execute_result"
    }
   ],
   "source": [
    "df.groupby('loc').median()"
   ]
  },
  {
   "cell_type": "code",
   "execution_count": 147,
   "metadata": {},
   "outputs": [
    {
     "name": "stdout",
     "output_type": "stream",
     "text": [
      "X_train taille:  (246372, 7)\n",
      "X_test taille:  (61593, 7)\n",
      "y_train taille:  (246372,)\n",
      "y_test taille:  (61593,)\n"
     ]
    }
   ],
   "source": [
    "# Diviser la base de données en une base de données test et d'entrainement\n",
    "sss=StratifiedShuffleSplit(n_splits=1,test_size=0.2,random_state=42)\n",
    "for train,test in sss.split(X,y):\n",
    "  X_train,X_test=X.iloc[train],X.iloc[test]\n",
    "  y_train,y_test=y.iloc[train],y.iloc[test]\n",
    "\n",
    "print('X_train taille: ', X_train.shape)\n",
    "print('X_test taille: ', X_test.shape)\n",
    "print('y_train taille: ', y_train.shape)\n",
    "print('y_test taille: ', y_test.shape)"
   ]
  },
  {
   "cell_type": "code",
   "execution_count": 148,
   "metadata": {},
   "outputs": [
    {
     "name": "stdout",
     "output_type": "stream",
     "text": [
      "LogisticRegression :\n"
     ]
    },
    {
     "name": "stderr",
     "output_type": "stream",
     "text": [
      "C:\\Users\\halid\\anaconda3\\lib\\site-packages\\sklearn\\linear_model\\_logistic.py:763: ConvergenceWarning: lbfgs failed to converge (status=1):\n",
      "STOP: TOTAL NO. of ITERATIONS REACHED LIMIT.\n",
      "\n",
      "Increase the number of iterations (max_iter) or scale the data as shown in:\n",
      "    https://scikit-learn.org/stable/modules/preprocessing.html\n",
      "Please also refer to the documentation for alternative solver options:\n",
      "    https://scikit-learn.org/stable/modules/linear_model.html#logistic-regression\n",
      "  n_iter_i = _check_optimize_result(\n"
     ]
    },
    {
     "name": "stdout",
     "output_type": "stream",
     "text": [
      "la precision du modèle est: 0.6668127871673729\n",
      "------------------------------\n",
      "KNeighborsClassifier :\n",
      "la precision du modèle est: 0.9125062912993359\n",
      "------------------------------\n",
      "DecisionTreeClassifier :\n",
      "la precision du modèle est: 0.6575260175669313\n",
      "------------------------------\n"
     ]
    }
   ],
   "source": [
    "# On va appliquer tois algorithmes Logisitic Regression, KNN, DecisionTree\n",
    "models={\n",
    "    'LogisticRegression':LogisticRegression(random_state=42),\n",
    "    'KNeighborsClassifier':KNeighborsClassifier(),\n",
    "    'DecisionTreeClassifier':DecisionTreeClassifier(max_depth=1,random_state=42)\n",
    "}\n",
    "\n",
    "# La fonction de précision\n",
    "def accu(y_true,y_pred,retu=False):\n",
    "  acc=accuracy_score(y_true,y_pred)\n",
    "  if retu:\n",
    "    return acc\n",
    "  else:\n",
    "    print(f'la precision du modèle est: {acc}')\n",
    "\n",
    "#c'est la fonction d'application des modèles\n",
    "def train_test_eval(models,X_train,y_train,X_test,y_test):\n",
    "  for name,model in models.items():\n",
    "    print(name,':')\n",
    "    model.fit(X_train,y_train)\n",
    "    accu(y_test,model.predict(X_test))\n",
    "    print('-'*30)\n",
    "\n",
    "train_test_eval(models,X_train,y_train,X_test,y_test)"
   ]
  },
  {
   "cell_type": "code",
   "execution_count": 149,
   "metadata": {},
   "outputs": [],
   "source": [
    "#apppliquons le modèle sur certaines variables \n",
    "X_2=X[['Epc','slice_id','run']]"
   ]
  },
  {
   "cell_type": "code",
   "execution_count": 150,
   "metadata": {},
   "outputs": [
    {
     "name": "stdout",
     "output_type": "stream",
     "text": [
      "X_train taille:  (246372, 3)\n",
      "X_test taille:  (61593, 3)\n",
      "y_train taille:  (246372,)\n",
      "y_test taille:  (61593,)\n"
     ]
    }
   ],
   "source": [
    "# Diviser la base de données en une base de données test et d'entrainement\n",
    "sss=StratifiedShuffleSplit(n_splits=1,test_size=0.2,random_state=42)\n",
    "for train,test in sss.split(X_2,y):\n",
    "  X_train,X_test=X_2.iloc[train],X_2.iloc[test]\n",
    "  y_train,y_test=y.iloc[train],y.iloc[test]\n",
    "\n",
    "print('X_train taille: ', X_train.shape)\n",
    "print('X_test taille: ', X_test.shape)\n",
    "print('y_train taille: ', y_train.shape)\n",
    "print('y_test taille: ', y_test.shape)"
   ]
  },
  {
   "cell_type": "code",
   "execution_count": 151,
   "metadata": {},
   "outputs": [
    {
     "name": "stdout",
     "output_type": "stream",
     "text": [
      "LogisticRegression :\n",
      "la precision du modèle est: 0.6575260175669313\n",
      "------------------------------\n",
      "KNeighborsClassifier :\n",
      "la precision du modèle est: 0.67666780315945\n",
      "------------------------------\n",
      "DecisionTreeClassifier :\n",
      "la precision du modèle est: 0.6575260175669313\n",
      "------------------------------\n"
     ]
    }
   ],
   "source": [
    "train_test_eval(models,X_train,y_train,X_test,y_test)"
   ]
  }
 ],
 "metadata": {
  "colab": {
   "name": "tunnel knn analytical v23.ipynb",
   "provenance": []
  },
  "kernelspec": {
   "display_name": "Python 3 (ipykernel)",
   "language": "python",
   "name": "python3"
  },
  "language_info": {
   "codemirror_mode": {
    "name": "ipython",
    "version": 3
   },
   "file_extension": ".py",
   "mimetype": "text/x-python",
   "name": "python",
   "nbconvert_exporter": "python",
   "pygments_lexer": "ipython3",
   "version": "3.9.7"
  }
 },
 "nbformat": 4,
 "nbformat_minor": 1
}
